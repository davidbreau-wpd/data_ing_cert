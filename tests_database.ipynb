{
 "cells": [
  {
   "cell_type": "markdown",
   "metadata": {},
   "source": [
    "## DEMO"
   ]
  },
  {
   "cell_type": "markdown",
   "metadata": {},
   "source": [
    "### CSV"
   ]
  },
  {
   "cell_type": "markdown",
   "metadata": {},
   "source": [
    "````Enercon````"
   ]
  },
  {
   "cell_type": "code",
   "execution_count": 1,
   "metadata": {},
   "outputs": [],
   "source": [
    "from models import Enercon_Reports_Processor; from pathlib import Path\n",
    "Enercon_Reports_Processor(\n",
    "    input_folder=Path(\"data\") / \"enercon\" / \"input\" \n",
    ")(\n",
    "    metadata_output_folder = Path(\"data\") / \"enercon\" / \"output\" / \"metadatas\",\n",
    "    inspection_checklist_output_folder = Path(\"data\") / \"enercon\" / \"output\" / \"inspection_checklists\"\n",
    ")"
   ]
  },
  {
   "cell_type": "markdown",
   "metadata": {},
   "source": [
    "``Vestas``"
   ]
  },
  {
   "cell_type": "code",
   "execution_count": 2,
   "metadata": {},
   "outputs": [],
   "source": [
    "from models import  Vestas_Reports_Processor; from pathlib import Path\n",
    "Vestas_Reports_Processor(\n",
    "    input_folder=Path(\"data\") / \"vestas\" / \"input\"\n",
    ")(\n",
    "    metadata_output_folder=Path('data') / 'vestas' / 'output' / 'metadatas',\n",
    "    inspection_checklist_output_folder=Path('data') / 'vestas' / 'output' / 'inspection_checklists'\n",
    ")"
   ]
  },
  {
   "cell_type": "markdown",
   "metadata": {},
   "source": [
    "### SQL"
   ]
  },
  {
   "cell_type": "markdown",
   "metadata": {},
   "source": [
    "````Build database````"
   ]
  },
  {
   "cell_type": "code",
   "execution_count": 2,
   "metadata": {},
   "outputs": [],
   "source": [
    "from models import DatabaseManager as db; db().build()"
   ]
  },
  {
   "cell_type": "markdown",
   "metadata": {},
   "source": [
    "````Defining tables````"
   ]
  },
  {
   "cell_type": "code",
   "execution_count": 3,
   "metadata": {},
   "outputs": [
    {
     "name": "stdout",
     "output_type": "stream",
     "text": [
      "Executed create_service_reports_checklists.sql\n",
      "Executed create_service_reports_metadas.sql\n",
      "Executed table_ingestion_tracking.sql\n"
     ]
    }
   ],
   "source": [
    "from models import DatabaseManager as db; from pathlib import Path \n",
    "db().create_tables_from_sql(\n",
    "    Path('database_building')\n",
    ")"
   ]
  },
  {
   "cell_type": "markdown",
   "metadata": {},
   "source": [
    "````Insert pdf reports into database````"
   ]
  },
  {
   "cell_type": "code",
   "execution_count": 5,
   "metadata": {},
   "outputs": [],
   "source": [
    "from pathlib import Path\n",
    "import pandas as pd"
   ]
  },
  {
   "cell_type": "code",
   "execution_count": 9,
   "metadata": {},
   "outputs": [
    {
     "name": "stdout",
     "output_type": "stream",
     "text": [
      "Data inserted into test_base.db\n",
      "\n",
      "Verification query:\n",
      "Total rows in database: 550\n"
     ]
    }
   ],
   "source": [
    "import pandas as pd\n",
    "from pathlib import Path\n",
    "from sqlalchemy import create_engine, text\n",
    "\n",
    "def categorize_inspection_items(pdf_path: Path) -> pd.DataFrame:\n",
    "    \"\"\"\n",
    "    Add item_category and item_number columns based on the 'no' column content.\n",
    "    \n",
    "    Args:\n",
    "        pdf_path (Path): Path to the CSV file to process\n",
    "        \n",
    "    Returns:\n",
    "        pd.DataFrame: Processed DataFrame with:\n",
    "            - Two new columns at the start: 'item_category' and 'item_number'\n",
    "            - Category rows removed\n",
    "            - Original columns preserved: ['no', 'check_item', 'result']\n",
    "    \"\"\"\n",
    "    # Read CSV without using first column as index\n",
    "    inspection_checklist = pd.read_csv(pdf_path)\n",
    "    \n",
    "    current_category = None\n",
    "    category_counter = 1  # Start counter at 1 instead of 0\n",
    "    \n",
    "    # Create lists to store categories and numbers\n",
    "    categories = []\n",
    "    numbers = []\n",
    "    \n",
    "    # Iterate through rows\n",
    "    for idx, row in inspection_checklist.iterrows():\n",
    "        # Check if it's a category row (no numeric value in 'no' column)\n",
    "        if not str(row['no']).replace('.', '').isdigit():\n",
    "            current_category = row['no']  # Category is in 'no' column\n",
    "            category_counter += 1\n",
    "            categories.append(None)\n",
    "            numbers.append(None)\n",
    "        else:\n",
    "            categories.append(current_category)\n",
    "            numbers.append(category_counter - 1)  # Use previous counter value\n",
    "    \n",
    "    # Insert new columns at the beginning\n",
    "    inspection_checklist.insert(0, 'item_number', pd.Series(numbers, dtype='Int64'))\n",
    "    inspection_checklist.insert(0, 'item_category', categories)\n",
    "    \n",
    "    # Drop category rows and unwanted column\n",
    "    result_df = inspection_checklist[inspection_checklist['no'].str.replace('.', '').str.isdigit()]\n",
    "    return result_df.drop(columns=['Unnamed: 0'])\n",
    "\n",
    "def process_inspection_reports(folder_path: Path) -> pd.DataFrame:\n",
    "    \"\"\"\n",
    "    Process all inspection reports in a folder, adding report_id, categories and item numbers.\n",
    "    \n",
    "    Args:\n",
    "        folder_path (Path): Path to the folder containing inspection CSV files\n",
    "        \n",
    "    Returns:\n",
    "        pd.DataFrame: Concatenated DataFrame of all reports with:\n",
    "            - report_id column added\n",
    "            - item_category and item_number columns\n",
    "            - Category rows removed\n",
    "            - Original columns preserved\n",
    "    \"\"\"\n",
    "    all_reports = []\n",
    "    report_id = 1\n",
    "    \n",
    "    # Get all CSV files in the folder\n",
    "    for csv_file in folder_path.glob(\"inspection_*.csv\"):\n",
    "        # Process single report\n",
    "        df = categorize_inspection_items(csv_file)\n",
    "        \n",
    "        # Add report_id\n",
    "        df.insert(0, 'report_id', report_id)\n",
    "        \n",
    "        all_reports.append(df)\n",
    "        report_id += 1\n",
    "    \n",
    "    # Concatenate all reports\n",
    "    return pd.concat(all_reports, ignore_index=True)\n",
    "\n",
    "# Process all Enercon reports\n",
    "enercon_folder = Path(\"data/enercon/output/inspection_checklists\")\n",
    "all_categorized_reports = process_inspection_reports(enercon_folder)\n",
    "\n",
    "# Create and populate database\n",
    "engine = create_engine('sqlite:///test_base.db')\n",
    "all_categorized_reports.to_sql('inspection_checklists', engine, if_exists='replace', index=False)\n",
    "\n",
    "# Verify insertion\n",
    "print(\"Data inserted into test_base.db\")\n",
    "print(\"\\nVerification query:\")\n",
    "with engine.connect() as conn:\n",
    "    result = conn.execute(text(\"SELECT COUNT(*) FROM inspection_checklists\")).fetchone()\n",
    "    print(f\"Total rows in database: {result[0]}\")"
   ]
  },
  {
   "cell_type": "code",
   "execution_count": 35,
   "metadata": {},
   "outputs": [
    {
     "name": "stdout",
     "output_type": "stream",
     "text": [
      "Total shape: (550, 6)\n",
      "\n",
      "First few rows:\n"
     ]
    },
    {
     "data": {
      "text/html": [
       "<div>\n",
       "<style scoped>\n",
       "    .dataframe tbody tr th:only-of-type {\n",
       "        vertical-align: middle;\n",
       "    }\n",
       "\n",
       "    .dataframe tbody tr th {\n",
       "        vertical-align: top;\n",
       "    }\n",
       "\n",
       "    .dataframe thead th {\n",
       "        text-align: right;\n",
       "    }\n",
       "</style>\n",
       "<table border=\"1\" class=\"dataframe\">\n",
       "  <thead>\n",
       "    <tr style=\"text-align: right;\">\n",
       "      <th></th>\n",
       "      <th>report_id</th>\n",
       "      <th>item_category</th>\n",
       "      <th>item_number</th>\n",
       "      <th>no</th>\n",
       "      <th>check_item</th>\n",
       "      <th>result</th>\n",
       "    </tr>\n",
       "  </thead>\n",
       "  <tbody>\n",
       "    <tr>\n",
       "      <th>0</th>\n",
       "      <td>1</td>\n",
       "      <td>Tower base</td>\n",
       "      <td>1</td>\n",
       "      <td>1</td>\n",
       "      <td>Carrying out a visual inspection of the tower ...</td>\n",
       "      <td>1 Done - No defects</td>\n",
       "    </tr>\n",
       "    <tr>\n",
       "      <th>1</th>\n",
       "      <td>1</td>\n",
       "      <td>Tower base</td>\n",
       "      <td>1</td>\n",
       "      <td>2</td>\n",
       "      <td>Checking RCD tower base</td>\n",
       "      <td>1 Done - No defects</td>\n",
       "    </tr>\n",
       "    <tr>\n",
       "      <th>2</th>\n",
       "      <td>1</td>\n",
       "      <td>Tower</td>\n",
       "      <td>2</td>\n",
       "      <td>3</td>\n",
       "      <td>Visually inspecting the tower</td>\n",
       "      <td>1 Done - No defects</td>\n",
       "    </tr>\n",
       "    <tr>\n",
       "      <th>3</th>\n",
       "      <td>1</td>\n",
       "      <td>Machine house</td>\n",
       "      <td>3</td>\n",
       "      <td>4</td>\n",
       "      <td>Checking the machine house first aid kit</td>\n",
       "      <td>1 Done - No defects</td>\n",
       "    </tr>\n",
       "    <tr>\n",
       "      <th>4</th>\n",
       "      <td>1</td>\n",
       "      <td>Machine house</td>\n",
       "      <td>3</td>\n",
       "      <td>5</td>\n",
       "      <td>Checking the fire extinguisher in the machine ...</td>\n",
       "      <td>1 Done - No defects</td>\n",
       "    </tr>\n",
       "  </tbody>\n",
       "</table>\n",
       "</div>"
      ],
      "text/plain": [
       "   report_id  item_category  item_number no  \\\n",
       "0          1     Tower base            1  1   \n",
       "1          1     Tower base            1  2   \n",
       "2          1          Tower            2  3   \n",
       "3          1  Machine house            3  4   \n",
       "4          1  Machine house            3  5   \n",
       "\n",
       "                                          check_item               result  \n",
       "0  Carrying out a visual inspection of the tower ...  1 Done - No defects  \n",
       "1                            Checking RCD tower base  1 Done - No defects  \n",
       "2                      Visually inspecting the tower  1 Done - No defects  \n",
       "3           Checking the machine house first aid kit  1 Done - No defects  \n",
       "4  Checking the fire extinguisher in the machine ...  1 Done - No defects  "
      ]
     },
     "metadata": {},
     "output_type": "display_data"
    },
    {
     "name": "stdout",
     "output_type": "stream",
     "text": [
      "\n",
      "Unique report IDs: [1 2 3 4]\n"
     ]
    }
   ],
   "source": [
    "def process_inspection_reports(folder_path: Path) -> pd.DataFrame:\n",
    "    \"\"\"\n",
    "    Process all inspection reports in a folder, adding report_id, categories and item numbers.\n",
    "    \n",
    "    Args:\n",
    "        folder_path (Path): Path to the folder containing inspection CSV files\n",
    "        \n",
    "    Returns:\n",
    "        pd.DataFrame: Concatenated DataFrame of all reports with:\n",
    "            - report_id column added\n",
    "            - item_category and item_number columns\n",
    "            - Category rows removed\n",
    "            - Original columns preserved\n",
    "    \"\"\"\n",
    "    all_reports = []\n",
    "    report_id = 1\n",
    "    \n",
    "    # Get all CSV files in the folder\n",
    "    for csv_file in folder_path.glob(\"inspection_*.csv\"):\n",
    "        # Process single report\n",
    "        df = categorize_inspection_items(csv_file)\n",
    "        \n",
    "        # Add report_id\n",
    "        df.insert(0, 'report_id', report_id)\n",
    "        \n",
    "        all_reports.append(df)\n",
    "        report_id += 1\n",
    "    \n",
    "    # Concatenate all reports\n",
    "    return pd.concat(all_reports, ignore_index=True)\n",
    "\n",
    "# Test with Enercon reports\n",
    "enercon_folder = Path(\"data/enercon/output/inspection_checklists\")\n",
    "all_categorized_reports = process_inspection_reports(enercon_folder)\n",
    "\n",
    "print(\"Total shape:\", all_categorized_reports.shape)\n",
    "print(\"\\nFirst few rows:\")\n",
    "display(all_categorized_reports.head())\n",
    "print(\"\\nUnique report IDs:\", all_categorized_reports['report_id'].unique())"
   ]
  },
  {
   "cell_type": "code",
   "execution_count": 36,
   "metadata": {},
   "outputs": [
    {
     "data": {
      "text/html": [
       "<div>\n",
       "<style scoped>\n",
       "    .dataframe tbody tr th:only-of-type {\n",
       "        vertical-align: middle;\n",
       "    }\n",
       "\n",
       "    .dataframe tbody tr th {\n",
       "        vertical-align: top;\n",
       "    }\n",
       "\n",
       "    .dataframe thead th {\n",
       "        text-align: right;\n",
       "    }\n",
       "</style>\n",
       "<table border=\"1\" class=\"dataframe\">\n",
       "  <thead>\n",
       "    <tr style=\"text-align: right;\">\n",
       "      <th></th>\n",
       "      <th>report_id</th>\n",
       "      <th>item_category</th>\n",
       "      <th>item_number</th>\n",
       "      <th>no</th>\n",
       "      <th>check_item</th>\n",
       "      <th>result</th>\n",
       "    </tr>\n",
       "  </thead>\n",
       "  <tbody>\n",
       "    <tr>\n",
       "      <th>0</th>\n",
       "      <td>1</td>\n",
       "      <td>Tower base</td>\n",
       "      <td>1</td>\n",
       "      <td>1</td>\n",
       "      <td>Carrying out a visual inspection of the tower ...</td>\n",
       "      <td>1 Done - No defects</td>\n",
       "    </tr>\n",
       "    <tr>\n",
       "      <th>1</th>\n",
       "      <td>1</td>\n",
       "      <td>Tower base</td>\n",
       "      <td>1</td>\n",
       "      <td>2</td>\n",
       "      <td>Checking RCD tower base</td>\n",
       "      <td>1 Done - No defects</td>\n",
       "    </tr>\n",
       "    <tr>\n",
       "      <th>2</th>\n",
       "      <td>1</td>\n",
       "      <td>Tower</td>\n",
       "      <td>2</td>\n",
       "      <td>3</td>\n",
       "      <td>Visually inspecting the tower</td>\n",
       "      <td>1 Done - No defects</td>\n",
       "    </tr>\n",
       "    <tr>\n",
       "      <th>3</th>\n",
       "      <td>1</td>\n",
       "      <td>Machine house</td>\n",
       "      <td>3</td>\n",
       "      <td>4</td>\n",
       "      <td>Checking the machine house first aid kit</td>\n",
       "      <td>1 Done - No defects</td>\n",
       "    </tr>\n",
       "    <tr>\n",
       "      <th>4</th>\n",
       "      <td>1</td>\n",
       "      <td>Machine house</td>\n",
       "      <td>3</td>\n",
       "      <td>5</td>\n",
       "      <td>Checking the fire extinguisher in the machine ...</td>\n",
       "      <td>1 Done - No defects</td>\n",
       "    </tr>\n",
       "    <tr>\n",
       "      <th>...</th>\n",
       "      <td>...</td>\n",
       "      <td>...</td>\n",
       "      <td>...</td>\n",
       "      <td>...</td>\n",
       "      <td>...</td>\n",
       "      <td>...</td>\n",
       "    </tr>\n",
       "    <tr>\n",
       "      <th>545</th>\n",
       "      <td>4</td>\n",
       "      <td>Report overview</td>\n",
       "      <td>26</td>\n",
       "      <td>173</td>\n",
       "      <td>rotor system - central lubrication, pressure g...</td>\n",
       "      <td>special, grease system - not working</td>\n",
       "    </tr>\n",
       "    <tr>\n",
       "      <th>546</th>\n",
       "      <td>4</td>\n",
       "      <td>Report overview</td>\n",
       "      <td>26</td>\n",
       "      <td>175</td>\n",
       "      <td>main component, screwing - Hub adapter – blade...</td>\n",
       "      <td>fit/gap size - wrong alignment</td>\n",
       "    </tr>\n",
       "    <tr>\n",
       "      <th>547</th>\n",
       "      <td>4</td>\n",
       "      <td>Report overview</td>\n",
       "      <td>26</td>\n",
       "      <td>176</td>\n",
       "      <td>main component, screwing - rotor hub - blade f...</td>\n",
       "      <td>fit/gap size - wrong alignment</td>\n",
       "    </tr>\n",
       "    <tr>\n",
       "      <th>548</th>\n",
       "      <td>4</td>\n",
       "      <td>Report overview</td>\n",
       "      <td>26</td>\n",
       "      <td>177</td>\n",
       "      <td>main component, screwing - rotor hub - blade f...</td>\n",
       "      <td>fit/gap size - wrong alignment</td>\n",
       "    </tr>\n",
       "    <tr>\n",
       "      <th>549</th>\n",
       "      <td>4</td>\n",
       "      <td>Report overview</td>\n",
       "      <td>26</td>\n",
       "      <td>185</td>\n",
       "      <td>rotor system - front, casing</td>\n",
       "      <td>special, sealing - sealing missing</td>\n",
       "    </tr>\n",
       "  </tbody>\n",
       "</table>\n",
       "<p>550 rows × 6 columns</p>\n",
       "</div>"
      ],
      "text/plain": [
       "     report_id    item_category  item_number   no  \\\n",
       "0            1       Tower base            1    1   \n",
       "1            1       Tower base            1    2   \n",
       "2            1            Tower            2    3   \n",
       "3            1    Machine house            3    4   \n",
       "4            1    Machine house            3    5   \n",
       "..         ...              ...          ...  ...   \n",
       "545          4  Report overview           26  173   \n",
       "546          4  Report overview           26  175   \n",
       "547          4  Report overview           26  176   \n",
       "548          4  Report overview           26  177   \n",
       "549          4  Report overview           26  185   \n",
       "\n",
       "                                            check_item  \\\n",
       "0    Carrying out a visual inspection of the tower ...   \n",
       "1                              Checking RCD tower base   \n",
       "2                        Visually inspecting the tower   \n",
       "3             Checking the machine house first aid kit   \n",
       "4    Checking the fire extinguisher in the machine ...   \n",
       "..                                                 ...   \n",
       "545  rotor system - central lubrication, pressure g...   \n",
       "546  main component, screwing - Hub adapter – blade...   \n",
       "547  main component, screwing - rotor hub - blade f...   \n",
       "548  main component, screwing - rotor hub - blade f...   \n",
       "549                       rotor system - front, casing   \n",
       "\n",
       "                                   result  \n",
       "0                     1 Done - No defects  \n",
       "1                     1 Done - No defects  \n",
       "2                     1 Done - No defects  \n",
       "3                     1 Done - No defects  \n",
       "4                     1 Done - No defects  \n",
       "..                                    ...  \n",
       "545  special, grease system - not working  \n",
       "546        fit/gap size - wrong alignment  \n",
       "547        fit/gap size - wrong alignment  \n",
       "548        fit/gap size - wrong alignment  \n",
       "549    special, sealing - sealing missing  \n",
       "\n",
       "[550 rows x 6 columns]"
      ]
     },
     "execution_count": 36,
     "metadata": {},
     "output_type": "execute_result"
    }
   ],
   "source": [
    "all_categorized_reports"
   ]
  },
  {
   "cell_type": "code",
   "execution_count": null,
   "metadata": {},
   "outputs": [],
   "source": [
    "from sqlalchemy import create_engine\n",
    "\n",
    "# Create test database\n",
    "engine = create_engine('sqlite:///test_base.db')\n",
    "\n",
    "# Insert the DataFrame into the database\n",
    "all_categorized_reports.to_sql('inspection_checklists', engine, if_exists='replace', index=False)\n",
    "\n",
    "# Verify the data\n",
    "print(\"Data inserted into test_base.db\")\n",
    "print(\"\\nVerification query:\")\n",
    "with engine.connect() as conn:\n",
    "    result = conn.execute(\"SELECT COUNT(*) FROM inspection_checklists\").fetchone()\n",
    "    print(f\"Total rows in database: {result[0]}\")"
   ]
  },
  {
   "cell_type": "markdown",
   "metadata": {},
   "source": [
    "<div style=\"color: lightcoral ; font-weight: bold\">⚠️ Danger zone ⚠️</div>"
   ]
  },
  {
   "cell_type": "markdown",
   "metadata": {},
   "source": [
    "````Drop tables````"
   ]
  },
  {
   "cell_type": "code",
   "execution_count": null,
   "metadata": {},
   "outputs": [],
   "source": [
    "from models import DatabaseManager as db; db().drop_tables()"
   ]
  },
  {
   "cell_type": "markdown",
   "metadata": {},
   "source": [
    "````Delete Database````"
   ]
  },
  {
   "cell_type": "code",
   "execution_count": 1,
   "metadata": {},
   "outputs": [
    {
     "name": "stdout",
     "output_type": "stream",
     "text": [
      "Database file data/wpd_windmanager_test_database.db successfully deleted\n"
     ]
    }
   ],
   "source": [
    "from models import DatabaseManager as db; db().delete_file()"
   ]
  }
 ],
 "metadata": {
  "kernelspec": {
   "display_name": "venv",
   "language": "python",
   "name": "python3"
  },
  "language_info": {
   "codemirror_mode": {
    "name": "ipython",
    "version": 3
   },
   "file_extension": ".py",
   "mimetype": "text/x-python",
   "name": "python",
   "nbconvert_exporter": "python",
   "pygments_lexer": "ipython3",
   "version": "3.11.9"
  }
 },
 "nbformat": 4,
 "nbformat_minor": 2
}
