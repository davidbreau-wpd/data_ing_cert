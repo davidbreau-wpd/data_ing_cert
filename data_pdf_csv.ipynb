{
 "cells": [
  {
   "cell_type": "code",
   "execution_count": 1,
   "metadata": {},
   "outputs": [],
   "source": [
    "from models import Enercon_Reports_Processor; from pathlib import Path\n",
    "Enercon_Reports_Processor(\n",
    "    input_folder=Path(\"power_bi_data\") / \"enercon\" / \"input\" \n",
    ")(\n",
    "    metadata_output_folder = Path(\"power_bi_data\") / \"enercon\" / \"output\" / \"metadatas\",\n",
    "    inspection_checklist_output_folder = Path(\"power_bi_data\") / \"enercon\" / \"output\" / \"inspection_checklists\"\n",
    ")"
   ]
  },
  {
   "cell_type": "code",
   "execution_count": 1,
   "metadata": {},
   "outputs": [
    {
     "name": "stdout",
     "output_type": "stream",
     "text": [
      "Successfully processed CHOUY_E3_Bal_V100-22.2MW_MK10D_D-Service_2_Year_2024-10-23_64154409.pdf\n",
      "Successfully processed CHOUY_E6_Check_ICPE_Electrical_V100_2024-10-03_64154434.pdf\n",
      "Successfully processed CHOUY_E6_Check_ICPE_Torque_Mk10_2023-12-20_61114033.pdf\n",
      "Successfully processed CHOUY_E6_V100_2.0MW_Mk10D_Trafo_inspection_1_Year_2023-11-08_61114030.pdf\n",
      "Successfully processed CHOUY_E6_V100_22.2MW_MK10D_C_-_Service_1_Year_2023-12-21_61114029.pdf\n",
      "Successfully processed ESIF SERVICE 2Y LIM5.pdf\n",
      "Successfully processed LIMALONGES_LIM5_Check_ICPE_Torque_2024-04-30_62691581.pdf\n",
      "Skipping LIMALONGES_Site_59364520_Service_2_Year_2023-04-21_60430922.pdf: No 'Service Inspection Form' page found in document\n"
     ]
    }
   ],
   "source": [
    "from models import  Vestas_Reports_Processor; from pathlib import Path\n",
    "Vestas_Reports_Processor(\n",
    "    input_folder=Path(\"power_bi_data\") / \"vestas\" / \"input\"\n",
    ")(\n",
    "    metadata_output_folder=Path('power_bi_data') / 'vestas' / 'output' / 'metadatas',\n",
    "    inspection_checklist_output_folder=Path('power_bi_data') / 'vestas' / 'output' / 'inspection_checklists'\n",
    ")"
   ]
  }
 ],
 "metadata": {
  "kernelspec": {
   "display_name": ".venv",
   "language": "python",
   "name": "python3"
  },
  "language_info": {
   "codemirror_mode": {
    "name": "ipython",
    "version": 3
   },
   "file_extension": ".py",
   "mimetype": "text/x-python",
   "name": "python",
   "nbconvert_exporter": "python",
   "pygments_lexer": "ipython3",
   "version": "3.11.9"
  }
 },
 "nbformat": 4,
 "nbformat_minor": 2
}
