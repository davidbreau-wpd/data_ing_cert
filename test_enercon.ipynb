{
 "cells": [
  {
   "cell_type": "code",
   "execution_count": 1,
   "metadata": {},
   "outputs": [],
   "source": [
    "from models import Enercon_Report, Enercon_Reports_Processor; from pathlib import Path"
   ]
  },
  {
   "cell_type": "code",
   "execution_count": 2,
   "metadata": {},
   "outputs": [],
   "source": [
    "# enercon_report = Enercon_Report(Path('data') / 'enercon' / 'input' / 'enercon_master_example.pdf')\n",
    "enercon_report = Enercon_Report('data\\enercon\\input\\enercon_grease_example.pdf')"
   ]
  },
  {
   "cell_type": "code",
   "execution_count": 4,
   "metadata": {},
   "outputs": [],
   "source": [
    "Enercon_Reports_Processor(\n",
    "    input_folder=Path(\"data\") / \"enercon\" / \"input\" \n",
    ")(\n",
    "    metadata_output_folder = Path(\"data\") / \"enercon\" / \"output\" / \"metadatas\",\n",
    "    inspection_checklist_output_folder = Path(\"data\") / \"enercon\" / \"output\" / \"inspection_checklists\"\n",
    ")"
   ]
  },
  {
   "cell_type": "code",
   "execution_count": 8,
   "metadata": {},
   "outputs": [
    {
     "data": {
      "text/plain": [
       "<Figure size 1200x1600 with 0 Axes>"
      ]
     },
     "metadata": {},
     "output_type": "display_data"
    },
    {
     "data": {
      "image/png": "[encoded data removed]",
      "text/plain": [
       "<Figure size 640x480 with 1 Axes>"
      ]
     },
     "metadata": {},
     "output_type": "display_data"
    }
   ],
   "source": [
    "# Imports\n",
    "from models import Enercon_Report\n",
    "from pathlib import Path\n",
    "import camelot\n",
    "import matplotlib.pyplot as plt\n",
    "\n",
    "# Create report instance\n",
    "report = Enercon_Report('data\\\\enercon\\\\input\\\\enercon_4_yearly_example.pdf')\n",
    "\n",
    "# Visualize table areas and columns\n",
    "report.visualize_camelot_parameters(\n",
    "    page_number=17,  # Assuming Report Overview is on page 2\n",
    "    flavor='stream',\n",
    "    columns=['58,285,470'],  # Initial guess for columns\n",
    "    table_areas=['20,700,600,40'],  # Rough area to test\n",
    "    edge_tol=500,\n",
    "    row_tol=10\n",
    ")\n",
    "plt.show()"
   ]
  },
  {
   "cell_type": "code",
   "execution_count": 2,
   "metadata": {},
   "outputs": [
    {
     "name": "stdout",
     "output_type": "stream",
     "text": [
      "\n",
      "=== Report Overview ===\n",
      "                 0                                                 1  \\\n",
      "0              No.                                   Defect location   \n",
      "1               57  tower, entrance area - lighting, entrance inside   \n",
      "2        Signature                                                     \n",
      "3  12.07.2024 , 81                                                     \n",
      "\n",
      "                                       2          3  \n",
      "0                            Defect type     Report  \n",
      "1  special, lighting - illuminant defect  920072792  \n",
      "2                                                    \n",
      "3                                                    \n"
     ]
    }
   ],
   "source": [
    "# Imports\n",
    "from models import Enercon_Report\n",
    "from pathlib import Path\n",
    "import camelot\n",
    "import matplotlib.pyplot as plt\n",
    "import pandas as pd\n",
    "\n",
    "# Create report instance\n",
    "report = Enercon_Report('data\\\\enercon\\\\input\\\\enercon_4_yearly_example.pdf')\n",
    "\n",
    "# Get raw inspection table with camelot tables\n",
    "raw_df, camelot_tables = report.extract_inspection_checklist()\n",
    "\n",
    "\n",
    "\n",
    "# Original extraction and display\n",
    "overview_df = report._extract_report_overview(raw_df, camelot_tables)\n",
    "print(\"\\n=== Report Overview ===\")\n",
    "print(overview_df)"
   ]
  },
  {
   "cell_type": "code",
   "execution_count": 3,
   "metadata": {},
   "outputs": [
    {
     "data": {
      "text/html": [
       "<div>\n",
       "<style scoped>\n",
       "    .dataframe tbody tr th:only-of-type {\n",
       "        vertical-align: middle;\n",
       "    }\n",
       "\n",
       "    .dataframe tbody tr th {\n",
       "        vertical-align: top;\n",
       "    }\n",
       "\n",
       "    .dataframe thead th {\n",
       "        text-align: right;\n",
       "    }\n",
       "</style>\n",
       "<table border=\"1\" class=\"dataframe\">\n",
       "  <thead>\n",
       "    <tr style=\"text-align: right;\">\n",
       "      <th></th>\n",
       "      <th>0</th>\n",
       "      <th>1</th>\n",
       "      <th>2</th>\n",
       "      <th>3</th>\n",
       "    </tr>\n",
       "  </thead>\n",
       "  <tbody>\n",
       "    <tr>\n",
       "      <th>0</th>\n",
       "      <td>No.</td>\n",
       "      <td>Defect location</td>\n",
       "      <td>Defect type</td>\n",
       "      <td>Report</td>\n",
       "    </tr>\n",
       "    <tr>\n",
       "      <th>1</th>\n",
       "      <td>57</td>\n",
       "      <td>tower, entrance area - lighting, entrance inside</td>\n",
       "      <td>special, lighting - illuminant defect</td>\n",
       "      <td>920072792</td>\n",
       "    </tr>\n",
       "    <tr>\n",
       "      <th>2</th>\n",
       "      <td>Signature</td>\n",
       "      <td></td>\n",
       "      <td></td>\n",
       "      <td></td>\n",
       "    </tr>\n",
       "    <tr>\n",
       "      <th>3</th>\n",
       "      <td>12.07.2024 , 81</td>\n",
       "      <td></td>\n",
       "      <td></td>\n",
       "      <td></td>\n",
       "    </tr>\n",
       "  </tbody>\n",
       "</table>\n",
       "</div>"
      ],
      "text/plain": [
       "                 0                                                 1  \\\n",
       "0              No.                                   Defect location   \n",
       "1               57  tower, entrance area - lighting, entrance inside   \n",
       "2        Signature                                                     \n",
       "3  12.07.2024 , 81                                                     \n",
       "\n",
       "                                       2          3  \n",
       "0                            Defect type     Report  \n",
       "1  special, lighting - illuminant defect  920072792  \n",
       "2                                                    \n",
       "3                                                    "
      ]
     },
     "execution_count": 3,
     "metadata": {},
     "output_type": "execute_result"
    }
   ],
   "source": [
    "overview_df"
   ]
  }
 ],
 "metadata": {
  "kernelspec": {
   "display_name": "venv",
   "language": "python",
   "name": "python3"
  },
  "language_info": {
   "codemirror_mode": {
    "name": "ipython",
    "version": 3
   },
   "file_extension": ".py",
   "mimetype": "text/x-python",
   "name": "python",
   "nbconvert_exporter": "python",
   "pygments_lexer": "ipython3",
   "version": "3.11.9"
  }
 },
 "nbformat": 4,
 "nbformat_minor": 2
}
