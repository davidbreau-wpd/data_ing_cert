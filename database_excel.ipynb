{
 "cells": [
  {
   "cell_type": "code",
   "execution_count": 2,
   "metadata": {},
   "outputs": [],
   "source": [
    "import pandas as pd; pd.set_option('display.max_columns', None) #Afficher toutes les colones\n",
    "from pathlib import Path"
   ]
  },
  {
   "cell_type": "code",
   "execution_count": 2,
   "metadata": {},
   "outputs": [],
   "source": [
    "df = pd.read_excel(Path(\"data\") / \"BDD.xlsx\", sheet_name=\"DataBase\")\n"
   ]
  },
  {
   "cell_type": "code",
   "execution_count": 3,
   "metadata": {},
   "outputs": [
    {
     "name": "stdout",
     "output_type": "stream",
     "text": [
      "<class 'pandas.core.frame.DataFrame'>\n",
      "RangeIndex: 145 entries, 0 to 144\n",
      "Columns: 117 entries, Unnamed: 0 to 0.8352402745995423\n",
      "dtypes: float64(3), object(114)\n",
      "memory usage: 132.7+ KB\n"
     ]
    }
   ],
   "source": [
    "df.info()"
   ]
  },
  {
   "cell_type": "markdown",
   "metadata": {},
   "source": [
    "Nettoyage"
   ]
  },
  {
   "cell_type": "code",
   "execution_count": null,
   "metadata": {},
   "outputs": [],
   "source": [
    "df.columns = df.iloc[0]  # La deuxième ligne devient l'en-tête\n",
    "df = df[1:].reset_index(drop=True)  # Supprime la première ligne et réindexe le DataFrame\n",
    "df = df.set_index('Map reference') # Utilise la colonne numérique incrémentielle déjà existante comme ID\n",
    "df = df.dropna(how='all', subset=df.columns.difference([\"total MW\"])) #Supprime les lignes intégralement nulles en ignorant la colonne \"total MW\" qui comporte des erreurs"
   ]
  },
  {
   "cell_type": "code",
   "execution_count": 32,
   "metadata": {},
   "outputs": [],
   "source": [
    "df.to_csv(Path('data') / 'Database.csv')"
   ]
  },
  {
   "cell_type": "markdown",
   "metadata": {},
   "source": [
    "Focus sur les parcs en opération"
   ]
  },
  {
   "cell_type": "code",
   "execution_count": 33,
   "metadata": {},
   "outputs": [],
   "source": [
    "df_inoperation = df[df[\"WF status\"] == \"In Operation by wm\"]\n",
    "df_inoperation.to_csv(Path('data') / 'Database_inoperation.csv')"
   ]
  },
  {
   "cell_type": "markdown",
   "metadata": {},
   "source": [
    "Répartition"
   ]
  },
  {
   "cell_type": "code",
   "execution_count": null,
   "metadata": {},
   "outputs": [
    {
     "name": "stdout",
     "output_type": "stream",
     "text": [
      "['Enercon', 'Vestas', 'DWT', 'RES', 'SRGE', 'Nordex']\n"
     ]
    }
   ],
   "source": [
    "suppliers = df_inoperation['WEC service company'].unique().tolist()           ; print(suppliers) #Extrait la liste des suppliers "
   ]
  },
  {
   "cell_type": "code",
   "execution_count": 29,
   "metadata": {},
   "outputs": [],
   "source": [
    "for supplier in suppliers:\n",
    "    df_temp = df[df[\"WEC service company\"] == supplier][['WF Abbreviation', 'WF common name', 'Windfarm (Infogreffe)', \"Region\", \"Département\", \"Commune\"]].sort_values(by=\"WF Abbreviation\")\n",
    "    df_temp.to_csv(Path('data') / 'WF' / f'{supplier.capitalize()}_windfarms.csv')"
   ]
  },
  {
   "cell_type": "code",
   "execution_count": 4,
   "metadata": {},
   "outputs": [
    {
     "name": "stdout",
     "output_type": "stream",
     "text": [
      "Converti : data\\WF\\Dwt_windfarms.csv -> data\\WF_Excel\\Dwt_windfarms.xlsx\n",
      "Converti : data\\WF\\Enercon_windfarms.csv -> data\\WF_Excel\\Enercon_windfarms.xlsx\n",
      "Converti : data\\WF\\Nordex_windfarms.csv -> data\\WF_Excel\\Nordex_windfarms.xlsx\n",
      "Converti : data\\WF\\Res_windfarms.csv -> data\\WF_Excel\\Res_windfarms.xlsx\n",
      "Converti : data\\WF\\Srge_windfarms.csv -> data\\WF_Excel\\Srge_windfarms.xlsx\n",
      "Converti : data\\WF\\Vestas_windfarms.csv -> data\\WF_Excel\\Vestas_windfarms.xlsx\n",
      "Conversion terminée !\n"
     ]
    }
   ],
   "source": [
    "# Chemin vers le dossier contenant les fichiers CSV\n",
    "dossier_csv = Path(\"data/WF\")\n",
    "\n",
    "# Chemin pour sauvegarder les fichiers Excel (vous pouvez le personnaliser)\n",
    "dossier_excel = Path(\"data/WF_Excel\")\n",
    "dossier_excel.mkdir(parents=True, exist_ok=True)  # Créer le dossier si nécessaire\n",
    "\n",
    "# Parcourir tous les fichiers CSV dans le dossier\n",
    "for fichier_csv in dossier_csv.glob(\"*.csv\"):\n",
    "    # Charger le CSV dans un DataFrame\n",
    "    df = pd.read_csv(fichier_csv)\n",
    "\n",
    "    # Définir le chemin de sortie pour le fichier Excel\n",
    "    fichier_excel = dossier_excel / (fichier_csv.stem + \".xlsx\")\n",
    "\n",
    "    # Sauvegarder le DataFrame au format Excel\n",
    "    df.to_excel(fichier_excel, index=False)\n",
    "\n",
    "    print(f\"Converti : {fichier_csv} -> {fichier_excel}\")\n",
    "\n",
    "print(\"Conversion terminée !\")\n",
    "\n"
   ]
  }
 ],
 "metadata": {
  "kernelspec": {
   "display_name": "venv",
   "language": "python",
   "name": "python3"
  },
  "language_info": {
   "codemirror_mode": {
    "name": "ipython",
    "version": 3
   },
   "file_extension": ".py",
   "mimetype": "text/x-python",
   "name": "python",
   "nbconvert_exporter": "python",
   "pygments_lexer": "ipython3",
   "version": "3.12.5"
  }
 },
 "nbformat": 4,
 "nbformat_minor": 2
}
