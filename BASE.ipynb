{
 "cells": [
  {
   "cell_type": "markdown",
   "metadata": {},
   "source": [
    "## DEMO"
   ]
  },
  {
   "cell_type": "markdown",
   "metadata": {},
   "source": [
    "### CSV"
   ]
  },
  {
   "cell_type": "markdown",
   "metadata": {},
   "source": [
    "````Enercon````"
   ]
  },
  {
   "cell_type": "code",
   "execution_count": 1,
   "metadata": {},
   "outputs": [
    {
     "name": "stderr",
     "output_type": "stream",
     "text": [
      "c:\\Users\\dbreau\\Documents\\Repositories\\data_ing_cert\\models\\service_report.py:332: FutureWarning: Series.__getitem__ treating keys as positions is deprecated. In a future version, integer keys will always be treated as labels (consistent with DataFrame behavior). To access a value by position, use `ser.iloc[pos]`\n",
      "  if pd.isna(row[0]) or str(row[0]).strip() == '':\n",
      "c:\\Users\\dbreau\\Documents\\Repositories\\data_ing_cert\\models\\service_report.py:336: FutureWarning: Series.__getitem__ treating keys as positions is deprecated. In a future version, integer keys will always be treated as labels (consistent with DataFrame behavior). To access a value by position, use `ser.iloc[pos]`\n",
      "  current_row[1] = f\"{current_row[1]}{separator}{row[1]}\"\n",
      "c:\\Users\\dbreau\\Documents\\Repositories\\data_ing_cert\\models\\service_report.py:336: FutureWarning: Series.__setitem__ treating keys as positions is deprecated. In a future version, integer keys will always be treated as labels (consistent with DataFrame behavior). To set a value by position, use `ser.iloc[pos] = value`\n",
      "  current_row[1] = f\"{current_row[1]}{separator}{row[1]}\"\n",
      "c:\\Users\\dbreau\\Documents\\Repositories\\data_ing_cert\\models\\service_report.py:337: FutureWarning: Series.__getitem__ treating keys as positions is deprecated. In a future version, integer keys will always be treated as labels (consistent with DataFrame behavior). To access a value by position, use `ser.iloc[pos]`\n",
      "  if not pd.isna(row[2]):  # Only merge if there's content\n",
      "c:\\Users\\dbreau\\Documents\\Repositories\\data_ing_cert\\models\\service_report.py:338: FutureWarning: Series.__getitem__ treating keys as positions is deprecated. In a future version, integer keys will always be treated as labels (consistent with DataFrame behavior). To access a value by position, use `ser.iloc[pos]`\n",
      "  current_row[2] = f\"{current_row[2]}{separator}{row[2]}\"\n",
      "c:\\Users\\dbreau\\Documents\\Repositories\\data_ing_cert\\models\\service_report.py:338: FutureWarning: Series.__setitem__ treating keys as positions is deprecated. In a future version, integer keys will always be treated as labels (consistent with DataFrame behavior). To set a value by position, use `ser.iloc[pos] = value`\n",
      "  current_row[2] = f\"{current_row[2]}{separator}{row[2]}\"\n",
      "c:\\Users\\dbreau\\Documents\\Repositories\\data_ing_cert\\models\\service_report.py:332: FutureWarning: Series.__getitem__ treating keys as positions is deprecated. In a future version, integer keys will always be treated as labels (consistent with DataFrame behavior). To access a value by position, use `ser.iloc[pos]`\n",
      "  if pd.isna(row[0]) or str(row[0]).strip() == '':\n",
      "c:\\Users\\dbreau\\Documents\\Repositories\\data_ing_cert\\models\\service_report.py:336: FutureWarning: Series.__getitem__ treating keys as positions is deprecated. In a future version, integer keys will always be treated as labels (consistent with DataFrame behavior). To access a value by position, use `ser.iloc[pos]`\n",
      "  current_row[1] = f\"{current_row[1]}{separator}{row[1]}\"\n",
      "c:\\Users\\dbreau\\Documents\\Repositories\\data_ing_cert\\models\\service_report.py:336: FutureWarning: Series.__setitem__ treating keys as positions is deprecated. In a future version, integer keys will always be treated as labels (consistent with DataFrame behavior). To set a value by position, use `ser.iloc[pos] = value`\n",
      "  current_row[1] = f\"{current_row[1]}{separator}{row[1]}\"\n",
      "c:\\Users\\dbreau\\Documents\\Repositories\\data_ing_cert\\models\\service_report.py:337: FutureWarning: Series.__getitem__ treating keys as positions is deprecated. In a future version, integer keys will always be treated as labels (consistent with DataFrame behavior). To access a value by position, use `ser.iloc[pos]`\n",
      "  if not pd.isna(row[2]):  # Only merge if there's content\n",
      "c:\\Users\\dbreau\\Documents\\Repositories\\data_ing_cert\\models\\service_report.py:338: FutureWarning: Series.__getitem__ treating keys as positions is deprecated. In a future version, integer keys will always be treated as labels (consistent with DataFrame behavior). To access a value by position, use `ser.iloc[pos]`\n",
      "  current_row[2] = f\"{current_row[2]}{separator}{row[2]}\"\n",
      "c:\\Users\\dbreau\\Documents\\Repositories\\data_ing_cert\\models\\service_report.py:338: FutureWarning: Series.__setitem__ treating keys as positions is deprecated. In a future version, integer keys will always be treated as labels (consistent with DataFrame behavior). To set a value by position, use `ser.iloc[pos] = value`\n",
      "  current_row[2] = f\"{current_row[2]}{separator}{row[2]}\"\n",
      "c:\\Users\\dbreau\\Documents\\Repositories\\data_ing_cert\\models\\service_report.py:332: FutureWarning: Series.__getitem__ treating keys as positions is deprecated. In a future version, integer keys will always be treated as labels (consistent with DataFrame behavior). To access a value by position, use `ser.iloc[pos]`\n",
      "  if pd.isna(row[0]) or str(row[0]).strip() == '':\n",
      "c:\\Users\\dbreau\\Documents\\Repositories\\data_ing_cert\\models\\service_report.py:336: FutureWarning: Series.__getitem__ treating keys as positions is deprecated. In a future version, integer keys will always be treated as labels (consistent with DataFrame behavior). To access a value by position, use `ser.iloc[pos]`\n",
      "  current_row[1] = f\"{current_row[1]}{separator}{row[1]}\"\n",
      "c:\\Users\\dbreau\\Documents\\Repositories\\data_ing_cert\\models\\service_report.py:336: FutureWarning: Series.__setitem__ treating keys as positions is deprecated. In a future version, integer keys will always be treated as labels (consistent with DataFrame behavior). To set a value by position, use `ser.iloc[pos] = value`\n",
      "  current_row[1] = f\"{current_row[1]}{separator}{row[1]}\"\n",
      "c:\\Users\\dbreau\\Documents\\Repositories\\data_ing_cert\\models\\service_report.py:337: FutureWarning: Series.__getitem__ treating keys as positions is deprecated. In a future version, integer keys will always be treated as labels (consistent with DataFrame behavior). To access a value by position, use `ser.iloc[pos]`\n",
      "  if not pd.isna(row[2]):  # Only merge if there's content\n",
      "c:\\Users\\dbreau\\Documents\\Repositories\\data_ing_cert\\models\\service_report.py:338: FutureWarning: Series.__getitem__ treating keys as positions is deprecated. In a future version, integer keys will always be treated as labels (consistent with DataFrame behavior). To access a value by position, use `ser.iloc[pos]`\n",
      "  current_row[2] = f\"{current_row[2]}{separator}{row[2]}\"\n",
      "c:\\Users\\dbreau\\Documents\\Repositories\\data_ing_cert\\models\\service_report.py:338: FutureWarning: Series.__setitem__ treating keys as positions is deprecated. In a future version, integer keys will always be treated as labels (consistent with DataFrame behavior). To set a value by position, use `ser.iloc[pos] = value`\n",
      "  current_row[2] = f\"{current_row[2]}{separator}{row[2]}\"\n",
      "c:\\Users\\dbreau\\Documents\\Repositories\\data_ing_cert\\models\\service_report.py:332: FutureWarning: Series.__getitem__ treating keys as positions is deprecated. In a future version, integer keys will always be treated as labels (consistent with DataFrame behavior). To access a value by position, use `ser.iloc[pos]`\n",
      "  if pd.isna(row[0]) or str(row[0]).strip() == '':\n",
      "c:\\Users\\dbreau\\Documents\\Repositories\\data_ing_cert\\models\\service_report.py:336: FutureWarning: Series.__getitem__ treating keys as positions is deprecated. In a future version, integer keys will always be treated as labels (consistent with DataFrame behavior). To access a value by position, use `ser.iloc[pos]`\n",
      "  current_row[1] = f\"{current_row[1]}{separator}{row[1]}\"\n",
      "c:\\Users\\dbreau\\Documents\\Repositories\\data_ing_cert\\models\\service_report.py:336: FutureWarning: Series.__setitem__ treating keys as positions is deprecated. In a future version, integer keys will always be treated as labels (consistent with DataFrame behavior). To set a value by position, use `ser.iloc[pos] = value`\n",
      "  current_row[1] = f\"{current_row[1]}{separator}{row[1]}\"\n",
      "c:\\Users\\dbreau\\Documents\\Repositories\\data_ing_cert\\models\\service_report.py:337: FutureWarning: Series.__getitem__ treating keys as positions is deprecated. In a future version, integer keys will always be treated as labels (consistent with DataFrame behavior). To access a value by position, use `ser.iloc[pos]`\n",
      "  if not pd.isna(row[2]):  # Only merge if there's content\n",
      "c:\\Users\\dbreau\\Documents\\Repositories\\data_ing_cert\\models\\service_report.py:338: FutureWarning: Series.__getitem__ treating keys as positions is deprecated. In a future version, integer keys will always be treated as labels (consistent with DataFrame behavior). To access a value by position, use `ser.iloc[pos]`\n",
      "  current_row[2] = f\"{current_row[2]}{separator}{row[2]}\"\n",
      "c:\\Users\\dbreau\\Documents\\Repositories\\data_ing_cert\\models\\service_report.py:338: FutureWarning: Series.__setitem__ treating keys as positions is deprecated. In a future version, integer keys will always be treated as labels (consistent with DataFrame behavior). To set a value by position, use `ser.iloc[pos] = value`\n",
      "  current_row[2] = f\"{current_row[2]}{separator}{row[2]}\"\n"
     ]
    }
   ],
   "source": [
    "from models import Enercon_Reports_Processor; from pathlib import Path\n",
    "Enercon_Reports_Processor(\n",
    "    input_folder=Path(\"data\") / \"enercon\" / \"input\" \n",
    ")(\n",
    "    metadata_output_folder = Path(\"data\") / \"enercon\" / \"output\" / \"metadatas\",\n",
    "    inspection_checklist_output_folder = Path(\"data\") / \"enercon\" / \"output\" / \"inspection_checklists\"\n",
    ")"
   ]
  },
  {
   "cell_type": "code",
   "execution_count": 4,
   "metadata": {},
   "outputs": [
    {
     "name": "stderr",
     "output_type": "stream",
     "text": [
      "DEBUG:__main__:Input directory exists: True\n",
      "DEBUG:__main__:Input directory absolute path: c:\\Users\\dbreau\\Documents\\Repositories\\data_ing_cert\\data\\enercon\\input\n",
      "DEBUG:__main__:Input directory contents: [WindowsPath('data/enercon/input/enercon_4_yearly_example.pdf'), WindowsPath('data/enercon/input/enercon_grease_example.pdf'), WindowsPath('data/enercon/input/enercon_master_example.pdf'), WindowsPath('data/enercon/input/enercon_wind_example.pdf')]\n",
      "DEBUG:__main__:Starting processor\n"
     ]
    },
    {
     "name": "stderr",
     "output_type": "stream",
     "text": [
      "2025-04-28T16:30:30 - INFO - Processing page-2\n",
      "INFO:camelot:Processing page-2\n",
      "DEBUG:filelock:Attempting to acquire lock 2327462718608 on C:\\Users\\dbreau\\AppData\\Local\\Temp\\ray\\session_2025-04-28_16-30-41_442138_18036\\node_ip_address.json.lock\n",
      "DEBUG:filelock:Lock 2327462718608 acquired on C:\\Users\\dbreau\\AppData\\Local\\Temp\\ray\\session_2025-04-28_16-30-41_442138_18036\\node_ip_address.json.lock\n",
      "DEBUG:filelock:Attempting to release lock 2327462718608 on C:\\Users\\dbreau\\AppData\\Local\\Temp\\ray\\session_2025-04-28_16-30-41_442138_18036\\node_ip_address.json.lock\n",
      "DEBUG:filelock:Lock 2327462718608 released on C:\\Users\\dbreau\\AppData\\Local\\Temp\\ray\\session_2025-04-28_16-30-41_442138_18036\\node_ip_address.json.lock\n",
      "DEBUG:filelock:Attempting to acquire lock 2327462712400 on C:\\Users\\dbreau\\AppData\\Local\\Temp\\ray\\session_2025-04-28_16-30-41_442138_18036\\ports_by_node.json.lock\n",
      "DEBUG:filelock:Lock 2327462712400 acquired on C:\\Users\\dbreau\\AppData\\Local\\Temp\\ray\\session_2025-04-28_16-30-41_442138_18036\\ports_by_node.json.lock\n",
      "DEBUG:filelock:Attempting to release lock 2327462712400 on C:\\Users\\dbreau\\AppData\\Local\\Temp\\ray\\session_2025-04-28_16-30-41_442138_18036\\ports_by_node.json.lock\n",
      "DEBUG:filelock:Lock 2327462712400 released on C:\\Users\\dbreau\\AppData\\Local\\Temp\\ray\\session_2025-04-28_16-30-41_442138_18036\\ports_by_node.json.lock\n",
      "DEBUG:filelock:Attempting to acquire lock 2327461779024 on C:\\Users\\dbreau\\AppData\\Local\\Temp\\ray\\session_2025-04-28_16-30-41_442138_18036\\ports_by_node.json.lock\n",
      "DEBUG:filelock:Lock 2327461779024 acquired on C:\\Users\\dbreau\\AppData\\Local\\Temp\\ray\\session_2025-04-28_16-30-41_442138_18036\\ports_by_node.json.lock\n",
      "DEBUG:filelock:Attempting to release lock 2327461779024 on C:\\Users\\dbreau\\AppData\\Local\\Temp\\ray\\session_2025-04-28_16-30-41_442138_18036\\ports_by_node.json.lock\n",
      "DEBUG:filelock:Lock 2327461779024 released on C:\\Users\\dbreau\\AppData\\Local\\Temp\\ray\\session_2025-04-28_16-30-41_442138_18036\\ports_by_node.json.lock\n",
      "DEBUG:filelock:Attempting to acquire lock 2327461783504 on C:\\Users\\dbreau\\AppData\\Local\\Temp\\ray\\session_2025-04-28_16-30-41_442138_18036\\ports_by_node.json.lock\n",
      "DEBUG:filelock:Lock 2327461783504 acquired on C:\\Users\\dbreau\\AppData\\Local\\Temp\\ray\\session_2025-04-28_16-30-41_442138_18036\\ports_by_node.json.lock\n",
      "DEBUG:filelock:Attempting to release lock 2327461783504 on C:\\Users\\dbreau\\AppData\\Local\\Temp\\ray\\session_2025-04-28_16-30-41_442138_18036\\ports_by_node.json.lock\n",
      "DEBUG:filelock:Lock 2327461783504 released on C:\\Users\\dbreau\\AppData\\Local\\Temp\\ray\\session_2025-04-28_16-30-41_442138_18036\\ports_by_node.json.lock\n",
      "DEBUG:filelock:Attempting to acquire lock 2327036304976 on C:\\Users\\dbreau\\AppData\\Local\\Temp\\ray\\session_2025-04-28_16-30-41_442138_18036\\ports_by_node.json.lock\n",
      "DEBUG:filelock:Lock 2327036304976 acquired on C:\\Users\\dbreau\\AppData\\Local\\Temp\\ray\\session_2025-04-28_16-30-41_442138_18036\\ports_by_node.json.lock\n",
      "DEBUG:filelock:Attempting to release lock 2327036304976 on C:\\Users\\dbreau\\AppData\\Local\\Temp\\ray\\session_2025-04-28_16-30-41_442138_18036\\ports_by_node.json.lock\n",
      "DEBUG:filelock:Lock 2327036304976 released on C:\\Users\\dbreau\\AppData\\Local\\Temp\\ray\\session_2025-04-28_16-30-41_442138_18036\\ports_by_node.json.lock\n",
      "DEBUG:filelock:Attempting to acquire lock 2327409380944 on C:\\Users\\dbreau\\AppData\\Local\\Temp\\ray\\session_2025-04-28_16-30-41_442138_18036\\ports_by_node.json.lock\n",
      "DEBUG:filelock:Lock 2327409380944 acquired on C:\\Users\\dbreau\\AppData\\Local\\Temp\\ray\\session_2025-04-28_16-30-41_442138_18036\\ports_by_node.json.lock\n",
      "DEBUG:filelock:Attempting to release lock 2327409380944 on C:\\Users\\dbreau\\AppData\\Local\\Temp\\ray\\session_2025-04-28_16-30-41_442138_18036\\ports_by_node.json.lock\n",
      "DEBUG:filelock:Lock 2327409380944 released on C:\\Users\\dbreau\\AppData\\Local\\Temp\\ray\\session_2025-04-28_16-30-41_442138_18036\\ports_by_node.json.lock\n",
      "ERROR:__main__:Error type: <class 'OSError'>\n",
      "ERROR:__main__:Error message: [WinError 1260] Ce programme est bloqué par une stratégie de groupe. Pour plus d’informations, contactez votre administrateur système\n",
      "ERROR:__main__:Error location: C:\\Users\\dbreau\\AppData\\Local\\Temp\\ipykernel_18036\\1586144028.py:27\n"
     ]
    }
   ],
   "source": [
    "from models import Enercon_Reports_Processor\n",
    "from pathlib import Path\n",
    "import os\n",
    "import logging\n",
    "\n",
    "# Set up logging\n",
    "logging.basicConfig(level=logging.DEBUG)\n",
    "logger = logging.getLogger(__name__)\n",
    "\n",
    "# Check if directories exist\n",
    "input_dir = Path(\"data\") / \"enercon\" / \"input\"\n",
    "metadata_dir = Path(\"data\") / \"enercon\" / \"output\" / \"metadatas\"\n",
    "inspection_dir = Path(\"data\") / \"enercon\" / \"output\" / \"inspection_checklists\"\n",
    "\n",
    "logger.debug(f\"Input directory exists: {input_dir.exists()}\")\n",
    "logger.debug(f\"Input directory absolute path: {input_dir.absolute()}\")\n",
    "logger.debug(f\"Input directory contents: {list(input_dir.glob('*.pdf'))}\")\n",
    "\n",
    "# Create output directories if they don't exist\n",
    "metadata_dir.mkdir(parents=True, exist_ok=True)\n",
    "inspection_dir.mkdir(parents=True, exist_ok=True)\n",
    "\n",
    "# Try processing with debug information\n",
    "processor = Enercon_Reports_Processor(input_folder=input_dir)\n",
    "try:\n",
    "    logger.debug(\"Starting processor\")\n",
    "    processor(\n",
    "        metadata_output_folder=metadata_dir,\n",
    "        inspection_checklist_output_folder=inspection_dir\n",
    "    )\n",
    "except Exception as e:\n",
    "    logger.error(f\"Error type: {type(e)}\")\n",
    "    logger.error(f\"Error message: {str(e)}\")\n",
    "    logger.error(f\"Error location: {e.__traceback__.tb_frame.f_code.co_filename}:{e.__traceback__.tb_lineno}\")"
   ]
  },
  {
   "cell_type": "markdown",
   "metadata": {},
   "source": [
    "``Vestas``"
   ]
  },
  {
   "cell_type": "code",
   "execution_count": 2,
   "metadata": {},
   "outputs": [],
   "source": [
    "from models import  Vestas_Reports_Processor; from pathlib import Path\n",
    "Vestas_Reports_Processor(\n",
    "    input_folder=Path(\"data\") / \"vestas\" / \"input\"\n",
    ")(\n",
    "    metadata_output_folder=Path('data') / 'vestas' / 'output' / 'metadatas',\n",
    "    inspection_checklist_output_folder=Path('data') / 'vestas' / 'output' / 'inspection_checklists'\n",
    ")"
   ]
  },
  {
   "cell_type": "markdown",
   "metadata": {},
   "source": [
    "### SQL"
   ]
  },
  {
   "cell_type": "markdown",
   "metadata": {},
   "source": [
    "````Build database````"
   ]
  },
  {
   "cell_type": "code",
   "execution_count": 3,
   "metadata": {},
   "outputs": [],
   "source": [
    "from models import DatabaseManager as db; db().build()"
   ]
  },
  {
   "cell_type": "markdown",
   "metadata": {},
   "source": [
    "````Defining tables````"
   ]
  },
  {
   "cell_type": "code",
   "execution_count": 4,
   "metadata": {},
   "outputs": [
    {
     "data": {
      "text/plain": [
       "<bound method DatabaseManager.create_tables_from_sql of <models.database_manager.DatabaseManager object at 0x0000017CA7A5AC50>>"
      ]
     },
     "execution_count": 4,
     "metadata": {},
     "output_type": "execute_result"
    }
   ],
   "source": [
    "from models import DatabaseManager as db; db().create_tables_from_sql"
   ]
  },
  {
   "cell_type": "markdown",
   "metadata": {},
   "source": [
    "````Insert pdf reports into database````"
   ]
  },
  {
   "cell_type": "code",
   "execution_count": 5,
   "metadata": {},
   "outputs": [
    {
     "name": "stdout",
     "output_type": "stream",
     "text": [
      "Successfully inserted 22 inspection items\n",
      "Processed data/enercon/output/inspection_checklists\\inspection_537_enercon_grease_maintenance_940088.csv\n",
      "Successfully inserted 10 inspection items\n",
      "Processed data/enercon/output/inspection_checklists\\inspection_825_enercon_wind_based_maintenance_940114.csv\n",
      "Successfully inserted 321 inspection items\n",
      "Processed data/enercon/output/inspection_checklists\\inspection_826_enercon_4-yearly_maintenance_940068.csv\n",
      "Successfully inserted 259 inspection items\n",
      "Processed data/enercon/output/inspection_checklists\\inspection_921_enercon_master_maintenance_9912.csv\n"
     ]
    },
    {
     "name": "stdout",
     "output_type": "stream",
     "text": [
      "Successfully inserted 30 inspection items\n",
      "Processed data/vestas/output/inspection_checklists\\inspection_232_vestas_6114_Check_ICPE_Electrical_V136.csv\n",
      "Successfully inserted 177 inspection items\n",
      "Processed data/vestas/output/inspection_checklists\\inspection_235_vestas_59033_V110_2_2.2MW_MK10D_D_-_Service_2_Year.csv\n",
      "Successfully inserted 33 inspection items\n",
      "Processed data/vestas/output/inspection_checklists\\inspection_235_vestas_6269_Check_ICPE_Torque.csv\n",
      "Successfully inserted 233 inspection items\n",
      "Processed data/vestas/output/inspection_checklists\\inspection_243_vestas_61114_V100_2_2.2MW_MK10D_C_-_Service_1_Year.csv\n"
     ]
    }
   ],
   "source": [
    "from models import DatabaseManager\n",
    "import pandas as pd\n",
    "import glob\n",
    "\n",
    "# Initialize database\n",
    "db = DatabaseManager()\n",
    "\n",
    "# Get all inspection CSV files\n",
    "inspection_files = glob.glob(\"data/enercon/output/inspection_checklists/inspection_*.csv\")\n",
    "inspection_files.extend(glob.glob(\"data/vestas/output/inspection_checklists/inspection_*.csv\"))\n",
    "\n",
    "\n",
    "# Insert each file\n",
    "for file in inspection_files:\n",
    "    df = pd.read_csv(file)\n",
    "    db.insert_inspection_checklist(df)\n",
    "    print(f\"Processed {file}\")"
   ]
  },
  {
   "cell_type": "markdown",
   "metadata": {},
   "source": [
    "<div style=\"color: lightcoral ; font-weight: bold\">⚠️ Danger zone ⚠️</div>"
   ]
  },
  {
   "cell_type": "markdown",
   "metadata": {},
   "source": [
    "````Drop tables````"
   ]
  },
  {
   "cell_type": "code",
   "execution_count": 6,
   "metadata": {},
   "outputs": [],
   "source": [
    "from models import DatabaseManager as db; db().drop_tables()"
   ]
  },
  {
   "cell_type": "markdown",
   "metadata": {},
   "source": [
    "````Delete Database````"
   ]
  },
  {
   "cell_type": "code",
   "execution_count": 7,
   "metadata": {},
   "outputs": [
    {
     "name": "stdout",
     "output_type": "stream",
     "text": [
      "Could not delete data/wpd_windmanager_test_database.db. File might be in use.\n"
     ]
    }
   ],
   "source": [
    "from models import DatabaseManager as db; db().delete_file()"
   ]
  }
 ],
 "metadata": {
  "kernelspec": {
   "display_name": "venv",
   "language": "python",
   "name": "python3"
  },
  "language_info": {
   "codemirror_mode": {
    "name": "ipython",
    "version": 3
   },
   "file_extension": ".py",
   "mimetype": "text/x-python",
   "name": "python",
   "nbconvert_exporter": "python",
   "pygments_lexer": "ipython3",
   "version": "3.11.9"
  }
 },
 "nbformat": 4,
 "nbformat_minor": 2
}
