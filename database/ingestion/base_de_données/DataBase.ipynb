{
 "cells": [
  {
   "cell_type": "markdown",
   "metadata": {
    "vscode": {
     "languageId": "plaintext"
    }
   },
   "source": [
    "Fichier de base : `2025_Base De Donnée_V1.xlsx`  \n",
    "Export de la feuille : `Database`"
   ]
  },
  {
   "cell_type": "code",
   "execution_count": 3,
   "metadata": {},
   "outputs": [],
   "source": [
    "import pandas as pd\n",
    "import os\n",
    "from pathlib import Path\n",
    "\n",
    "database_excel_filename = \"2025_Base De Donnée_V1.xlsx\"\n",
    "database_excel_path = Path(\"P:\") / \"windmanager\" / \"00_Share point general\" / database_excel_filename\n",
    "\n",
    "database_TEMP_name = \"2025_Base De Donnée_V1.xlsx\"\n",
    "database_TEMP_path = Path('../../..', 'data', 'excel') / database_TEMP_name\n",
    "\n",
    "df = pd.read_excel(database_TEMP_path, sheet_name='DataBase')"
   ]
  },
  {
   "cell_type": "code",
   "execution_count": 4,
   "metadata": {},
   "outputs": [],
   "source": [
    "df.columns = df.iloc[0]\n",
    "df = df[1:]"
   ]
  },
  {
   "cell_type": "code",
   "execution_count": 12,
   "metadata": {},
   "outputs": [
    {
     "data": {
      "text/plain": [
       "['SPV',\n",
       " 'Project',\n",
       " 'Three-letter-code',\n",
       " 'Customer',\n",
       " 'Account number',\n",
       " 'WF qty',\n",
       " 'Project type',\n",
       " 'WF status',\n",
       " 'TCMA Status',\n",
       " 'Map reference',\n",
       " 'Region',\n",
       " 'Département',\n",
       " 'Commune',\n",
       " 'KM AR Arras',\n",
       " 'KM AR Nantes',\n",
       " 'Temps AR Arras (en h)',\n",
       " 'Temps AR Vertou (en h)',\n",
       " 'PEAGES Arras',\n",
       " 'Peages Nantes ',\n",
       " 'SIRET',\n",
       " 'VAT number',\n",
       " 'Head office address',\n",
       " 'Legal representative',\n",
       " 'Bank domiciliation ',\n",
       " 'REMIT subscription',\n",
       " 'portfolio name',\n",
       " 'Asset Manager',\n",
       " 'Project developer',\n",
       " 'Co-developper',\n",
       " 'Number of WEC',\n",
       " 'type of WEC',\n",
       " 'WEC Age',\n",
       " 'WEC Supplier',\n",
       " 'Hub Height (m)',\n",
       " 'Rotor diam (m)',\n",
       " 'Tip Height (m)',\n",
       " 'rated power (MW) installed',\n",
       " 'total MW',\n",
       " 'Last TOC',\n",
       " 'WEC service company',\n",
       " 'transfer station / power station',\n",
       " 'Transfer station/power station service company',\n",
       " 'Grid operator',\n",
       " 'Contract type',\n",
       " 'TCMA signature date',\n",
       " 'TCMA Entrée en vigueur',\n",
       " 'Beginning of remuneration \\n',\n",
       " 'End date of TCMA',\n",
       " 'TCMA compensation rate',\n",
       " 'Arras Technical Management',\n",
       " 'Control room (L1)',\n",
       " 'Technical Operations Management (L2)\\n',\n",
       " 'Field Crew',\n",
       " 'Environnemental department',\n",
       " 'DREI in place',\n",
       " 'DREI Date',\n",
       " 'Délegataire Electrique  NF C18-510',\n",
       " 'Sub Délegataire Electrique  NF C18-510',\n",
       " 'Electrical Engineering',\n",
       " 'HSE Coordination',\n",
       " 'TM',\n",
       " 'Substitute TM',\n",
       " 'Ice detection system (Automatic stop? YES/NO ; Automatic restart? YES/NO)',\n",
       " 'Overseer',\n",
       " 'Main Service company',\n",
       " 'Service provider',\n",
       " 'Service contract type',\n",
       " 'End date of O&M contract',\n",
       " 'Key account manager',\n",
       " 'Substitute key account manager',\n",
       " 'Commercial controller',\n",
       " 'substitute commercial controller',\n",
       " 'Accountant',\n",
       " 'Substitute accountant',\n",
       " 'Expert comptable Chartered accountant',\n",
       " 'Commissaire aux comptes Legal auditor',\n",
       " 'End date of legal auditor mandate',\n",
       " 'Energy trader',\n",
       " 'Agregator contract signature date',\n",
       " 'Start date agregator contract',\n",
       " 'Duration aggregator contract',\n",
       " 'Tariff aggregator',\n",
       " 'Active EDF contract',\n",
       " 'Tarif PPA type',\n",
       " 'Tarif Start Date',\n",
       " 'Tarif end date',\n",
       " 'Duration',\n",
       " 'Energy price per Kwh',\n",
       " 'VPPA name',\n",
       " 'VPPA start',\n",
       " 'VAPP duration',\n",
       " 'Quantity',\n",
       " 'VPPA tariff /MWh',\n",
       " 'Production target Bank (MWh/an)',\n",
       " 'Production target Investor (MWh/an)',\n",
       " 'Productible Actual 2020 (MWh)',\n",
       " 'Productible Actual 2021 (MWh)',\n",
       " 'Productible Actual 2022 (MWh)',\n",
       " 'Productible Actual 2023 (MWh)',\n",
       " 'Revenue target 2020',\n",
       " 'Revenue target 2021',\n",
       " 'Revenue target 2022',\n",
       " 'Revenue target 2023',\n",
       " 'Revenue target 2024',\n",
       " 'Revenue Actual 2020',\n",
       " 'Revenue Actual 2021',\n",
       " 'Revenue Actual 2022',\n",
       " 'Revenue Actual 2023',\n",
       " 'AIP Number',\n",
       " 'Duty DREAL contact',\n",
       " 'Prefecture Name ',\n",
       " 'Prefecture address',\n",
       " 'Financial guarantee amount',\n",
       " 'Financial guarantee due date',\n",
       " 'Dismantling provision indexation date',\n",
       " 'Land lease payment date',\n",
       " 'Country',\n",
       " 'windmanager subsidiary']"
      ]
     },
     "execution_count": 12,
     "metadata": {},
     "output_type": "execute_result"
    }
   ],
   "source": [
    "list(df.columns)"
   ]
  },
  {
   "cell_type": "code",
   "execution_count": 11,
   "metadata": {},
   "outputs": [
    {
     "data": {
      "text/plain": [
       "['SPV', 'Project', 'Three-letter-code']"
      ]
     },
     "execution_count": 11,
     "metadata": {},
     "output_type": "execute_result"
    }
   ],
   "source": [
    "identifiers = list(df.columns)[0:3]"
   ]
  },
  {
   "cell_type": "code",
   "execution_count": 13,
   "metadata": {},
   "outputs": [
    {
     "name": "stdout",
     "output_type": "stream",
     "text": [
      "['Customer', 'Account number', 'WF qty', 'Project type', 'WF status', 'TCMA Status']\n"
     ]
    }
   ],
   "source": [
    "general_data = ['Customer', 'Account number', 'WF qty', 'Project type', 'WF status', 'TCMA Status']\n",
    "geographical_data = ['Map reference', 'Region', 'Département', 'Commune', 'KM AR Arras', 'KM AR Nantes', 'Temps AR Arras (en h)', 'Temps AR Vertou (en h)', 'PEAGES Arras', 'Peages Nantes ']\n"
   ]
  },
  {
   "cell_type": "code",
   "execution_count": 14,
   "metadata": {},
   "outputs": [],
   "source": [
    "admin_data = "
   ]
  },
  {
   "cell_type": "code",
   "execution_count": 15,
   "metadata": {},
   "outputs": [
    {
     "name": "stdout",
     "output_type": "stream",
     "text": [
      "['Map reference', 'Region', 'Département', 'Commune', 'KM AR Arras', 'KM AR Nantes', 'Temps AR Arras (en h)', 'Temps AR Vertou (en h)', 'PEAGES Arras', 'Peages Nantes ']\n"
     ]
    }
   ],
   "source": [
    "print(geographical_data)"
   ]
  }
 ],
 "metadata": {
  "kernelspec": {
   "display_name": ".venv",
   "language": "python",
   "name": "python3"
  },
  "language_info": {
   "codemirror_mode": {
    "name": "ipython",
    "version": 3
   },
   "file_extension": ".py",
   "mimetype": "text/x-python",
   "name": "python",
   "nbconvert_exporter": "python",
   "pygments_lexer": "ipython3",
   "version": "3.11.12"
  }
 },
 "nbformat": 4,
 "nbformat_minor": 2
}
