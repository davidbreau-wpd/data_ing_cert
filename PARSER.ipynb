{
 "cells": [
  {
   "cell_type": "code",
   "execution_count": 6,
   "metadata": {},
   "outputs": [
    {
     "name": "stdout",
     "output_type": "stream",
     "text": [
      "=== METADATA ===\n",
      "                                                  Metadata\n",
      "Serial number                                          825\n",
      "Project number                                    S-04388-\n",
      "Site                                                   Bin\n",
      "WEC                                                E-82 E2\n",
      "Control system type                                  CS82a\n",
      "Order type                          WIND BASED MAINTENANCE\n",
      "Order number                                        940114\n",
      "Final date of order completion                Feb 25, 2025\n",
      "Completion date of report                     Feb 25, 2025\n",
      "Inspection lot number                             94000430\n",
      "Document number                                  D0877 4.0\n",
      "Performing team                            T138 SST Gellai\n",
      "Performing company              ENERCON SERVICE FRANCE EST\n",
      "Free of defects                                          8\n",
      "With defects                                             0\n",
      "Total                                                    8\n",
      "\n",
      "=== INSPECTION CHECKLIST ===\n"
     ]
    }
   ],
   "source": [
    "from models.service_reports.parsers.enercon_parser import Enercon_PDF_Parser\n",
    "from pathlib import Path\n",
    "\n",
    "# Initialize parser with example file\n",
    "pdf_path = Path(\"data\") / \"enercon\" / \"input\" / \"enercon_wind_example.pdf\"\n",
    "parser = Enercon_PDF_Parser(str(pdf_path))\n",
    "\n",
    "# Get metadata and checklist\n",
    "metadata_df = parser.get_metadata_df()\n",
    "checklist_df = parser.get_inspection_checklist_df()\n",
    "\n",
    "# Display results\n",
    "print(\"=== METADATA ===\")\n",
    "print(metadata_df)\n",
    "print(\"\\n=== INSPECTION CHECKLIST ===\")\n",
    "checklist_df.to_csv('test.csv')"
   ]
  },
  {
   "cell_type": "code",
   "execution_count": 3,
   "metadata": {},
   "outputs": [
    {
     "name": "stdout",
     "output_type": "stream",
     "text": [
      "                                no  \\\n",
      "18  Electrical system – Tower base   \n",
      "19                               1   \n",
      "20                               2   \n",
      "23          Electrics - Rotor head   \n",
      "24                               3   \n",
      "25                               4   \n",
      "26                               5   \n",
      "27                               6   \n",
      "29                               7   \n",
      "30                               8   \n",
      "\n",
      "                                           check_item  \\\n",
      "18                                                      \n",
      "19                   Performing overspeed switch test   \n",
      "20  Carrying out the overspeed switch test with te...   \n",
      "23                                                      \n",
      "24        Setting overspeed switch trigger speed CS40   \n",
      "25  Setting overspeed switch trigger speed CS30, C...   \n",
      "26  Setting overspeed switch trigger speed CS48a, ...   \n",
      "27  Checking remaining time of overspeed test on m...   \n",
      "29                              Acoustic check of WEC   \n",
      "30          Resetting warning messages and parameters   \n",
      "\n",
      "                              result  \n",
      "18                                    \n",
      "19        3 Not done - Not necessary  \n",
      "20  1 Done - No defects\\n\\n25.87 rpm  \n",
      "23                                    \n",
      "24        3 Not done - Not necessary  \n",
      "25        3 Not done - Not necessary  \n",
      "26        3 Not done - Not necessary  \n",
      "27               1 Done - No defects  \n",
      "29               1 Done - No defects  \n",
      "30               1 Done - No defects  \n"
     ]
    }
   ],
   "source": [
    "print(checklist_df)"
   ]
  },
  {
   "cell_type": "code",
   "execution_count": 1,
   "metadata": {},
   "outputs": [
    {
     "name": "stdout",
     "output_type": "stream",
     "text": [
      "Error processing inspection checklist: Enercon_PDF_Parser.format_table() missing 1 required positional argument: 'tables'\n",
      "Error processing inspection checklist: Enercon_PDF_Parser.format_table() missing 1 required positional argument: 'tables'\n",
      "Error processing inspection checklist: Enercon_PDF_Parser.format_table() missing 1 required positional argument: 'tables'\n",
      "Error processing inspection checklist: Enercon_PDF_Parser.format_table() missing 1 required positional argument: 'tables'\n"
     ]
    }
   ],
   "source": [
    "from models.service_reports.processors.enercon_processor import Enercon_Processor\n",
    "from pathlib import Path\n",
    "\n",
    "# Setup paths\n",
    "input_folder = Path(\"data\") / \"enercon\" / \"input\"\n",
    "output_base = Path(\"test_data\") / \"enercon\" / \"output\"\n",
    "metadata_output = output_base / \"metadatas\"\n",
    "checklist_output = output_base / \"inspection_checklists\"\n",
    "\n",
    "# Initialize and run processor\n",
    "processor = Enercon_Processor(input_folder=input_folder)\n",
    "processor(\n",
    "    metadata_output_folder=metadata_output,\n",
    "    inspection_checklist_output_folder=checklist_output\n",
    ")"
   ]
  },
  {
   "cell_type": "code",
   "execution_count": null,
   "metadata": {},
   "outputs": [],
   "source": [
    "from models import  Vestas_Reports_Processor; from pathlib import Path\n",
    "Vestas_Reports_Processor(\n",
    "    input_folder=Path(\"data\") / \"vestas\" / \"input\"\n",
    ")(\n",
    "    metadata_output_folder=Path('data') / 'vestas' / 'output' / 'metadatas',\n",
    "    inspection_checklist_output_folder=Path('data') / 'vestas' / 'output' / 'inspection_checklists'\n",
    ")"
   ]
  },
  {
   "cell_type": "code",
   "execution_count": null,
   "metadata": {},
   "outputs": [],
   "source": [
    "from models import  Vestas_Reports_Processor; from pathlib import Path\n",
    "Vestas_Reports_Processor(\n",
    "    input_folder=Path(\"data\") / \"vestas\" / \"input\"\n",
    ")(\n",
    "    metadata_output_folder=Path('data') / 'vestas' / 'output' / 'metadatas',\n",
    "    inspection_checklist_output_folder=Path('data') / 'vestas' / 'output' / 'inspection_checklists'\n",
    ")"
   ]
  },
  {
   "cell_type": "code",
   "execution_count": null,
   "metadata": {},
   "outputs": [],
   "source": []
  },
  {
   "cell_type": "code",
   "execution_count": null,
   "metadata": {},
   "outputs": [],
   "source": []
  }
 ],
 "metadata": {
  "kernelspec": {
   "display_name": "venv",
   "language": "python",
   "name": "python3"
  },
  "language_info": {
   "codemirror_mode": {
    "name": "ipython",
    "version": 3
   },
   "file_extension": ".py",
   "mimetype": "text/x-python",
   "name": "python",
   "nbconvert_exporter": "python",
   "pygments_lexer": "ipython3",
   "version": "3.11.9"
  }
 },
 "nbformat": 4,
 "nbformat_minor": 2
}
