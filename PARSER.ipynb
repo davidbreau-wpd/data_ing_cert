{
 "cells": [
  {
   "cell_type": "code",
   "execution_count": 6,
   "metadata": {},
   "outputs": [
    {
     "name": "stdout",
     "output_type": "stream",
     "text": [
      "=== METADATA ===\n",
      "                                                  Metadata\n",
      "Serial number                                          825\n",
      "Project number                                    S-04388-\n",
      "Site                                                   Bin\n",
      "WEC                                                E-82 E2\n",
      "Control system type                                  CS82a\n",
      "Order type                          WIND BASED MAINTENANCE\n",
      "Order number                                        940114\n",
      "Final date of order completion                Feb 25, 2025\n",
      "Completion date of report                     Feb 25, 2025\n",
      "Inspection lot number                             94000430\n",
      "Document number                                  D0877 4.0\n",
      "Performing team                            T138 SST Gellai\n",
      "Performing company              ENERCON SERVICE FRANCE EST\n",
      "Free of defects                                          8\n",
      "With defects                                             0\n",
      "Total                                                    8\n",
      "\n",
      "=== INSPECTION CHECKLIST ===\n"
     ]
    }
   ],
   "source": [
    "from models.service_reports.parsers.enercon_parser import Enercon_PDF_Parser\n",
    "from pathlib import Path\n",
    "\n",
    "# Initialize parser with example file\n",
    "pdf_path = Path(\"data\") / \"enercon\" / \"input\" / \"enercon_wind_example.pdf\"\n",
    "parser = Enercon_PDF_Parser(str(pdf_path))\n",
    "\n",
    "# Get metadata and checklist\n",
    "metadata_df = parser.get_metadata_df()\n",
    "checklist_df = parser.get_inspection_checklist_df()\n",
    "\n",
    "# Display results\n",
    "print(\"=== METADATA ===\")\n",
    "print(metadata_df)\n",
    "print(\"\\n=== INSPECTION CHECKLIST ===\")\n",
    "checklist_df.to_csv('test.csv')"
   ]
  },
  {
   "cell_type": "code",
   "execution_count": 1,
   "metadata": {},
   "outputs": [
    {
     "name": "stdout",
     "output_type": "stream",
     "text": [
      "\n",
      "=== Métadonnées ===\n",
      "                     Metadata\n",
      "Serial number             825\n",
      "Project number       S-04388-\n",
      "Site                      Bin\n",
      "WEC                   E-82 E2\n",
      "Control system type     CS82a\n",
      "\n",
      "=== Checklist ===\n",
      "                               no              check_item result\n",
      "5                      Order type  WIND BASED MAINTENANCE       \n",
      "6                    Order number                  940114       \n",
      "7  Final date of order completion            Feb 25, 2025       \n",
      "8       Completion date of report            Feb 25, 2025       \n",
      "9           Inspection lot number                94000430       \n",
      "\n",
      "Dimensions:\n",
      "Metadata: (16, 1)\n",
      "Checklist: (22, 3)\n"
     ]
    }
   ],
   "source": [
    "from models.service_reports.parsers.enercon_parser2 import Enercon_PDF_Parser\n",
    "import pandas as pd\n",
    "from pathlib import Path\n",
    "# Chemin vers un rapport test\n",
    "test_file = Path('data\\enercon\\input\\enercon_wind_example.pdf')\n",
    "\n",
    "# Test du parser\n",
    "parser = Enercon_PDF_Parser(test_file)\n",
    "\n",
    "# Extraction des métadonnées\n",
    "print(\"\\n=== Métadonnées ===\")\n",
    "metadata = parser.get_metadata()\n",
    "print(metadata.head())\n",
    "\n",
    "# Extraction du checklist\n",
    "print(\"\\n=== Checklist ===\")\n",
    "checklist = parser.get_inspection_checklist()\n",
    "print(checklist.head())\n",
    "\n",
    "# Affichage des dimensions\n",
    "print(\"\\nDimensions:\")\n",
    "print(f\"Metadata: {metadata.shape}\")\n",
    "print(f\"Checklist: {checklist.shape}\")"
   ]
  },
  {
   "cell_type": "code",
   "execution_count": 1,
   "metadata": {},
   "outputs": [],
   "source": [
    "from models.service_reports.processors.enercon_processor import Enercon_Processor\n",
    "from pathlib import Path\n",
    "\n",
    "# Setup paths\n",
    "input_folder = Path(\"data\") / \"enercon\" / \"input\"\n",
    "output_base = Path(\"test_data\") / \"enercon\" / \"output\"\n",
    "metadata_output = output_base / \"metadatas\"\n",
    "checklist_output = output_base / \"inspection_checklists\"\n",
    "\n",
    "# Initialize and run processor\n",
    "processor = Enercon_Processor(input_folder=input_folder)\n",
    "processor(\n",
    "    metadata_output_folder=metadata_output,\n",
    "    inspection_checklist_output_folder=checklist_output\n",
    ")"
   ]
  },
  {
   "cell_type": "code",
   "execution_count": null,
   "metadata": {},
   "outputs": [],
   "source": [
    "from models import  Vestas_Reports_Processor; from pathlib import Path\n",
    "Vestas_Reports_Processor(\n",
    "    input_folder=Path(\"data\") / \"vestas\" / \"input\"\n",
    ")(\n",
    "    metadata_output_folder=Path('data') / 'vestas' / 'output' / 'metadatas',\n",
    "    inspection_checklist_output_folder=Path('data') / 'vestas' / 'output' / 'inspection_checklists'\n",
    ")"
   ]
  },
  {
   "cell_type": "code",
   "execution_count": null,
   "metadata": {},
   "outputs": [],
   "source": [
    "from models import  Vestas_Reports_Processor; from pathlib import Path\n",
    "Vestas_Reports_Processor(\n",
    "    input_folder=Path(\"data\") / \"vestas\" / \"input\"\n",
    ")(\n",
    "    metadata_output_folder=Path('data') / 'vestas' / 'output' / 'metadatas',\n",
    "    inspection_checklist_output_folder=Path('data') / 'vestas' / 'output' / 'inspection_checklists'\n",
    ")"
   ]
  },
  {
   "cell_type": "code",
   "execution_count": null,
   "metadata": {},
   "outputs": [],
   "source": []
  },
  {
   "cell_type": "code",
   "execution_count": null,
   "metadata": {},
   "outputs": [],
   "source": []
  }
 ],
 "metadata": {
  "kernelspec": {
   "display_name": "venv",
   "language": "python",
   "name": "python3"
  },
  "language_info": {
   "codemirror_mode": {
    "name": "ipython",
    "version": 3
   },
   "file_extension": ".py",
   "mimetype": "text/x-python",
   "name": "python",
   "nbconvert_exporter": "python",
   "pygments_lexer": "ipython3",
   "version": "3.11.9"
  }
 },
 "nbformat": 4,
 "nbformat_minor": 2
}
