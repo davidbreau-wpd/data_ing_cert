{
 "cells": [
  {
   "cell_type": "markdown",
   "metadata": {},
   "source": [
    "## DEMO"
   ]
  },
  {
   "cell_type": "markdown",
   "metadata": {},
   "source": [
    "### CSV"
   ]
  },
  {
   "cell_type": "markdown",
   "metadata": {},
   "source": [
    "````Enercon````"
   ]
  },
  {
   "cell_type": "code",
   "execution_count": 1,
   "metadata": {},
   "outputs": [],
   "source": [
    "from models import Enercon_Reports_Processor; from pathlib import Path\n",
    "Enercon_Reports_Processor(\n",
    "    input_folder=Path(\"data\") / \"enercon\" / \"input\" \n",
    ")(\n",
    "    metadata_output_folder = Path(\"data\") / \"enercon\" / \"output\" / \"metadatas\",\n",
    "    inspection_checklist_output_folder = Path(\"data\") / \"enercon\" / \"output\" / \"inspection_checklists\"\n",
    ")"
   ]
  },
  {
   "cell_type": "markdown",
   "metadata": {},
   "source": [
    "``Vestas``"
   ]
  },
  {
   "cell_type": "code",
   "execution_count": 1,
   "metadata": {},
   "outputs": [],
   "source": [
    "from models import  Vestas_Reports_Processor; from pathlib import Path\n",
    "Vestas_Reports_Processor(\n",
    "    input_folder=Path(\"data\") / \"vestas\" / \"input\"\n",
    ")(\n",
    "    metadata_output_folder=Path('data') / 'vestas' / 'output' / 'metadatas',\n",
    "    inspection_checklist_output_folder=Path('data') / 'vestas' / 'output' / 'inspection_checklists'\n",
    ")"
   ]
  },
  {
   "cell_type": "markdown",
   "metadata": {},
   "source": [
    "### SQL"
   ]
  },
  {
   "cell_type": "markdown",
   "metadata": {},
   "source": [
    "````Build database````"
   ]
  },
  {
   "cell_type": "code",
   "execution_count": 3,
   "metadata": {},
   "outputs": [],
   "source": [
    "from models import DatabaseManager as db; db().build()"
   ]
  },
  {
   "cell_type": "markdown",
   "metadata": {},
   "source": [
    "````Defining tables````"
   ]
  },
  {
   "cell_type": "code",
   "execution_count": 4,
   "metadata": {},
   "outputs": [
    {
     "data": {
      "text/plain": [
       "<bound method DatabaseManager.create_tables_from_sql of <models.database_manager.DatabaseManager object at 0x00000193774EC050>>"
      ]
     },
     "execution_count": 4,
     "metadata": {},
     "output_type": "execute_result"
    }
   ],
   "source": [
    "from models import DatabaseManager as db; db().create_tables_from_sql"
   ]
  },
  {
   "cell_type": "markdown",
   "metadata": {},
   "source": [
    "````Insert pdf reports into database````"
   ]
  },
  {
   "cell_type": "code",
   "execution_count": 5,
   "metadata": {},
   "outputs": [
    {
     "name": "stdout",
     "output_type": "stream",
     "text": [
      "Successfully inserted 22 inspection items\n",
      "Processed data/enercon/output/inspection_checklists\\inspection_537_enercon_grease_maintenance_940088.csv\n",
      "Successfully inserted 12 inspection items\n",
      "Processed data/enercon/output/inspection_checklists\\inspection_825_enercon_wind_based_maintenance_940114.csv\n",
      "Successfully inserted 492 inspection items\n",
      "Processed data/enercon/output/inspection_checklists\\inspection_826_enercon_4-yearly_maintenance_940068.csv\n",
      "Successfully inserted 285 inspection items\n",
      "Processed data/enercon/output/inspection_checklists\\inspection_921_enercon_master_maintenance_9912.csv\n",
      "Successfully inserted 32 inspection items\n",
      "Processed data/vestas/output/inspection_checklists\\inspection_232_vestas_6114_Check ICPE Electrical V136.csv\n"
     ]
    }
   ],
   "source": [
    "from models import DatabaseManager\n",
    "import pandas as pd\n",
    "import glob\n",
    "\n",
    "# Initialize database\n",
    "db = DatabaseManager()\n",
    "\n",
    "# Get all inspection CSV files\n",
    "inspection_files = glob.glob(\"data/enercon/output/inspection_checklists/inspection_*.csv\")\n",
    "inspection_files.extend(glob.glob(\"data/vestas/output/inspection_checklists/inspection_*.csv\"))\n",
    "\n",
    "\n",
    "# Insert each file\n",
    "for file in inspection_files:\n",
    "    df = pd.read_csv(file)\n",
    "    db.insert_inspection_checklist(df)\n",
    "    print(f\"Processed {file}\")"
   ]
  },
  {
   "cell_type": "markdown",
   "metadata": {},
   "source": [
    "<div style=\"color: lightcoral ; font-weight: bold\">⚠️ Danger zone ⚠️</div>"
   ]
  },
  {
   "cell_type": "markdown",
   "metadata": {},
   "source": [
    "````Drop tables````"
   ]
  },
  {
   "cell_type": "code",
   "execution_count": 6,
   "metadata": {},
   "outputs": [],
   "source": [
    "from models import DatabaseManager as db; db().drop_tables()"
   ]
  },
  {
   "cell_type": "markdown",
   "metadata": {},
   "source": [
    "````Delete Database````"
   ]
  },
  {
   "cell_type": "code",
   "execution_count": 7,
   "metadata": {},
   "outputs": [
    {
     "name": "stdout",
     "output_type": "stream",
     "text": [
      "Could not delete data/wpd_windmanager_test_database.db. File might be in use.\n"
     ]
    }
   ],
   "source": [
    "from models import DatabaseManager as db; db().delete_file()"
   ]
  }
 ],
 "metadata": {
  "kernelspec": {
   "display_name": "venv",
   "language": "python",
   "name": "python3"
  },
  "language_info": {
   "codemirror_mode": {
    "name": "ipython",
    "version": 3
   },
   "file_extension": ".py",
   "mimetype": "text/x-python",
   "name": "python",
   "nbconvert_exporter": "python",
   "pygments_lexer": "ipython3",
   "version": "3.11.9"
  }
 },
 "nbformat": 4,
 "nbformat_minor": 2
}
