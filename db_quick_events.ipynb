{
 "cells": [
  {
   "cell_type": "markdown",
   "metadata": {},
   "source": [
    "## DEMO"
   ]
  },
  {
   "cell_type": "markdown",
   "metadata": {},
   "source": [
    "### CSV"
   ]
  },
  {
   "cell_type": "markdown",
   "metadata": {},
   "source": [
    "````Enercon````"
   ]
  },
  {
   "cell_type": "code",
   "execution_count": null,
   "metadata": {},
   "outputs": [],
   "source": [
    "from models import Enercon_Reports_Processor; from pathlib import Path\n",
    "Enercon_Reports_Processor(\n",
    "    input_folder=Path(\"data\") / \"enercon\" / \"input\" \n",
    ")(\n",
    "    metadata_output_folder = Path(\"data\") / \"enercon\" / \"output\" / \"metadatas\",\n",
    "    inspection_checklist_output_folder = Path(\"data\") / \"enercon\" / \"output\" / \"inspection_checklists\"\n",
    ")"
   ]
  },
  {
   "cell_type": "markdown",
   "metadata": {},
   "source": [
    "``Vestas``"
   ]
  },
  {
   "cell_type": "code",
   "execution_count": null,
   "metadata": {},
   "outputs": [],
   "source": [
    "from models import  Vestas_Reports_Processor; from pathlib import Path\n",
    "Vestas_Reports_Processor(\n",
    "    input_folder=Path(\"data\") / \"vestas\" / \"input\"\n",
    ")(\n",
    "    metadata_output_folder=Path('data') / 'vestas' / 'output' / 'metadatas',\n",
    "    inspection_checklist_output_folder=Path('data') / 'vestas' / 'output' / 'inspection_checklists'\n",
    ")"
   ]
  },
  {
   "cell_type": "markdown",
   "metadata": {},
   "source": [
    "### SQL"
   ]
  },
  {
   "cell_type": "markdown",
   "metadata": {},
   "source": [
    "````Build database````"
   ]
  },
  {
   "cell_type": "code",
   "execution_count": 5,
   "metadata": {},
   "outputs": [],
   "source": [
    "from models import DatabaseManager as db; db().build()"
   ]
  },
  {
   "cell_type": "markdown",
   "metadata": {},
   "source": [
    "````Defining tables````"
   ]
  },
  {
   "cell_type": "code",
   "execution_count": 6,
   "metadata": {},
   "outputs": [
    {
     "data": {
      "text/plain": [
       "<bound method DatabaseManager.create_tables_from_sql of <models.database_manager.DatabaseManager object at 0x00000291A81438D0>>"
      ]
     },
     "execution_count": 6,
     "metadata": {},
     "output_type": "execute_result"
    }
   ],
   "source": [
    "from models import DatabaseManager as db; db().create_tables_from_sql"
   ]
  },
  {
   "cell_type": "markdown",
   "metadata": {},
   "source": [
    "````Insert pdf reports into database````"
   ]
  },
  {
   "cell_type": "code",
   "execution_count": 7,
   "metadata": {},
   "outputs": [
    {
     "name": "stdout",
     "output_type": "stream",
     "text": [
      "Successfully inserted 25 inspection items\n",
      "Processed data/enercon/output/inspection_checklists\\inspection_537_enercon_grease_maintenance_940088.csv\n",
      "Successfully inserted 14 inspection items\n",
      "Processed data/enercon/output/inspection_checklists\\inspection_825_enercon_wind_based_maintenance_940114.csv\n",
      "Successfully inserted 509 inspection items\n",
      "Processed data/enercon/output/inspection_checklists\\inspection_826_enercon_4-yearly_maintenance_940068.csv\n",
      "Successfully inserted 296 inspection items\n",
      "Processed data/enercon/output/inspection_checklists\\inspection_921_enercon_master_maintenance_9912.csv\n",
      "Successfully inserted 32 inspection items\n",
      "Processed data/vestas/output/inspection_checklists\\inspection_232_vestas_6114_Check ICPE Electrical V136.csv\n"
     ]
    }
   ],
   "source": [
    "from models import DatabaseManager\n",
    "import pandas as pd\n",
    "import glob\n",
    "\n",
    "# Initialize database\n",
    "db = DatabaseManager()\n",
    "\n",
    "# Get all inspection CSV files\n",
    "inspection_files = glob.glob(\"data/enercon/output/inspection_checklists/inspection_*.csv\")\n",
    "inspection_files.extend(glob.glob(\"data/vestas/output/inspection_checklists/inspection_*.csv\"))\n",
    "\n",
    "\n",
    "# Insert each file\n",
    "for file in inspection_files:\n",
    "    df = pd.read_csv(file)\n",
    "    db.insert_inspection_checklist(df)\n",
    "    print(f\"Processed {file}\")"
   ]
  },
  {
   "cell_type": "markdown",
   "metadata": {},
   "source": [
    "<div style=\"color: lightcoral ; font-weight: bold\">⚠️ Danger zone ⚠️</div>"
   ]
  },
  {
   "cell_type": "markdown",
   "metadata": {},
   "source": [
    "````Drop tables````"
   ]
  },
  {
   "cell_type": "code",
   "execution_count": null,
   "metadata": {},
   "outputs": [],
   "source": [
    "from models import DatabaseManager as db; db().drop_tables()"
   ]
  },
  {
   "cell_type": "markdown",
   "metadata": {},
   "source": [
    "````Delete Database````"
   ]
  },
  {
   "cell_type": "code",
   "execution_count": 4,
   "metadata": {},
   "outputs": [
    {
     "ename": "AttributeError",
     "evalue": "type object 'sqlite3.Connection' has no attribute '_connections'",
     "output_type": "error",
     "traceback": [
      "\u001b[31m---------------------------------------------------------------------------\u001b[39m",
      "\u001b[31mAttributeError\u001b[39m                            Traceback (most recent call last)",
      "\u001b[36mCell\u001b[39m\u001b[36m \u001b[39m\u001b[32mIn[4]\u001b[39m\u001b[32m, line 1\u001b[39m\n\u001b[32m----> \u001b[39m\u001b[32m1\u001b[39m \u001b[38;5;28;01mfrom\u001b[39;00m\u001b[38;5;250m \u001b[39m\u001b[34;01mmodels\u001b[39;00m\u001b[38;5;250m \u001b[39m\u001b[38;5;28;01mimport\u001b[39;00m DatabaseManager \u001b[38;5;28;01mas\u001b[39;00m db; db().delete_file()\n",
      "\u001b[36mFile \u001b[39m\u001b[32mc:\\Users\\dbreau\\Documents\\Repositories\\pdf_transformation\\models\\database_manager.py:40\u001b[39m, in \u001b[36mDatabaseManager.delete_file\u001b[39m\u001b[34m(self)\u001b[39m\n\u001b[32m     38\u001b[39m \u001b[38;5;66;03m# Force close any remaining SQLite connections\u001b[39;00m\n\u001b[32m     39\u001b[39m \u001b[38;5;28;01mfrom\u001b[39;00m\u001b[38;5;250m \u001b[39m\u001b[34;01msqlite3\u001b[39;00m\u001b[38;5;250m \u001b[39m\u001b[38;5;28;01mimport\u001b[39;00m Connection\n\u001b[32m---> \u001b[39m\u001b[32m40\u001b[39m \u001b[38;5;28;01mfor\u001b[39;00m conn \u001b[38;5;129;01min\u001b[39;00m \u001b[43mConnection\u001b[49m\u001b[43m.\u001b[49m\u001b[43m_connections\u001b[49m.copy():\n\u001b[32m     41\u001b[39m     conn.close()\n\u001b[32m     43\u001b[39m \u001b[38;5;66;03m# Force garbage collection\u001b[39;00m\n",
      "\u001b[31mAttributeError\u001b[39m: type object 'sqlite3.Connection' has no attribute '_connections'"
     ]
    }
   ],
   "source": [
    "from models import DatabaseManager as db; db().delete_file()"
   ]
  }
 ],
 "metadata": {
  "kernelspec": {
   "display_name": "venv",
   "language": "python",
   "name": "python3"
  },
  "language_info": {
   "codemirror_mode": {
    "name": "ipython",
    "version": 3
   },
   "file_extension": ".py",
   "mimetype": "text/x-python",
   "name": "python",
   "nbconvert_exporter": "python",
   "pygments_lexer": "ipython3",
   "version": "3.11.9"
  }
 },
 "nbformat": 4,
 "nbformat_minor": 2
}
