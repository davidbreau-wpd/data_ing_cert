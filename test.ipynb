{
 "cells": [
  {
   "cell_type": "code",
   "execution_count": 1,
   "metadata": {},
   "outputs": [
    {
     "name": "stderr",
     "output_type": "stream",
     "text": [
      "c:\\Users\\dbreau\\Documents\\Repositories\\data_ing_cert\\venv\\Lib\\site-packages\\pypdf\\_crypt_providers\\_cryptography.py:32: CryptographyDeprecationWarning: ARC4 has been moved to cryptography.hazmat.decrepit.ciphers.algorithms.ARC4 and will be removed from cryptography.hazmat.primitives.ciphers.algorithms in 48.0.0.\n",
      "  from cryptography.hazmat.primitives.ciphers.algorithms import AES, ARC4\n"
     ]
    }
   ],
   "source": [
    "from PDF_class import PDF; import os"
   ]
  },
  {
   "cell_type": "markdown",
   "metadata": {},
   "source": [
    "    Essai avec un seul pdf"
   ]
  },
  {
   "cell_type": "code",
   "execution_count": null,
   "metadata": {},
   "outputs": [
    {
     "data": {
      "text/html": [
       "<div>\n",
       "<style scoped>\n",
       "    .dataframe tbody tr th:only-of-type {\n",
       "        vertical-align: middle;\n",
       "    }\n",
       "\n",
       "    .dataframe tbody tr th {\n",
       "        vertical-align: top;\n",
       "    }\n",
       "\n",
       "    .dataframe thead th {\n",
       "        text-align: right;\n",
       "    }\n",
       "</style>\n",
       "<table border=\"1\" class=\"dataframe\">\n",
       "  <thead>\n",
       "    <tr style=\"text-align: right;\">\n",
       "      <th></th>\n",
       "      <th>0</th>\n",
       "      <th>1</th>\n",
       "      <th>2</th>\n",
       "      <th>3</th>\n",
       "    </tr>\n",
       "  </thead>\n",
       "  <tbody>\n",
       "    <tr>\n",
       "      <th>0</th>\n",
       "      <td></td>\n",
       "      <td></td>\n",
       "      <td>218237</td>\n",
       "      <td></td>\n",
       "    </tr>\n",
       "    <tr>\n",
       "      <th>1</th>\n",
       "      <td>Service Inspection Form</td>\n",
       "      <td></td>\n",
       "      <td></td>\n",
       "      <td></td>\n",
       "    </tr>\n",
       "    <tr>\n",
       "      <th>2</th>\n",
       "      <td>0010</td>\n",
       "      <td>6 months Service</td>\n",
       "      <td></td>\n",
       "      <td></td>\n",
       "    </tr>\n",
       "    <tr>\n",
       "      <th>3</th>\n",
       "      <td>0030</td>\n",
       "      <td>Maintenance LRE</td>\n",
       "      <td></td>\n",
       "      <td></td>\n",
       "    </tr>\n",
       "    <tr>\n",
       "      <th>4</th>\n",
       "      <td>0</td>\n",
       "      <td>eSIF</td>\n",
       "      <td></td>\n",
       "      <td></td>\n",
       "    </tr>\n",
       "    <tr>\n",
       "      <th>...</th>\n",
       "      <td>...</td>\n",
       "      <td>...</td>\n",
       "      <td>...</td>\n",
       "      <td>...</td>\n",
       "    </tr>\n",
       "    <tr>\n",
       "      <th>172</th>\n",
       "      <td></td>\n",
       "      <td></td>\n",
       "      <td></td>\n",
       "      <td>Service Report</td>\n",
       "    </tr>\n",
       "    <tr>\n",
       "      <th>173</th>\n",
       "      <td></td>\n",
       "      <td></td>\n",
       "      <td>Turbine No./Id:\\n218237</td>\n",
       "      <td>Service order\\n62501323</td>\n",
       "    </tr>\n",
       "    <tr>\n",
       "      <th>174</th>\n",
       "      <td>15.03</td>\n",
       "      <td>Remove the collected grease from the yaw top t...</td>\n",
       "      <td></td>\n",
       "      <td></td>\n",
       "    </tr>\n",
       "    <tr>\n",
       "      <th>175</th>\n",
       "      <td>15.04</td>\n",
       "      <td>Clean the tower basement and tower from inside...</td>\n",
       "      <td></td>\n",
       "      <td></td>\n",
       "    </tr>\n",
       "    <tr>\n",
       "      <th>176</th>\n",
       "      <td></td>\n",
       "      <td>Page 10 of 10</td>\n",
       "      <td></td>\n",
       "      <td></td>\n",
       "    </tr>\n",
       "  </tbody>\n",
       "</table>\n",
       "<p>177 rows × 4 columns</p>\n",
       "</div>"
      ],
      "text/plain": [
       "                           0  \\\n",
       "0                              \n",
       "1    Service Inspection Form   \n",
       "2                       0010   \n",
       "3                       0030   \n",
       "4                          0   \n",
       "..                       ...   \n",
       "172                            \n",
       "173                            \n",
       "174                    15.03   \n",
       "175                    15.04   \n",
       "176                            \n",
       "\n",
       "                                                     1  \\\n",
       "0                                                        \n",
       "1                                                        \n",
       "2                                     6 months Service   \n",
       "3                                      Maintenance LRE   \n",
       "4                                                 eSIF   \n",
       "..                                                 ...   \n",
       "172                                                      \n",
       "173                                                      \n",
       "174  Remove the collected grease from the yaw top t...   \n",
       "175  Clean the tower basement and tower from inside...   \n",
       "176                                      Page 10 of 10   \n",
       "\n",
       "                           2                        3  \n",
       "0                     218237                           \n",
       "1                                                      \n",
       "2                                                      \n",
       "3                                                      \n",
       "4                                                      \n",
       "..                       ...                      ...  \n",
       "172                                    Service Report  \n",
       "173  Turbine No./Id:\\n218237  Service order\\n62501323  \n",
       "174                                                    \n",
       "175                                                    \n",
       "176                                                    \n",
       "\n",
       "[177 rows x 4 columns]"
      ]
     },
     "execution_count": 2,
     "metadata": {},
     "output_type": "execute_result"
    }
   ],
   "source": [
    "#chemin\n",
    "path = 'data\\CLUSSAIS_CLU2_Bal_V100-22.2MW_MK10C_B-Service_6months_2024-05-14_62501323.pdf'\n",
    "pdf_test = PDF(path=path)\n",
    "pdf_test.get_full_table()"
   ]
  },
  {
   "cell_type": "code",
   "execution_count": 12,
   "metadata": {},
   "outputs": [
    {
     "data": {
      "text/plain": [
       "{'turbine_number': '218237',\n",
       " 'service_order': '62501323',\n",
       " 'pad_no': 'CLUSSAIS CLU2',\n",
       " 'turbine_type': 'V100',\n",
       " 'start_date': '16.04.2024',\n",
       " 'customer_address': ['WPD II Poitou Charentes',\n",
       "  '29 rue des Rosati',\n",
       "  'F-62000 ARRAS'],\n",
       " 'date_and_time_of_receipt': '13.11.2023 00:20:31',\n",
       " 'reason_for_call_out': 'Bal V100-2/2.2MW MK10C B-Service 6months'}"
      ]
     },
     "execution_count": 12,
     "metadata": {},
     "output_type": "execute_result"
    }
   ],
   "source": [
    "pdf_test.header_informations"
   ]
  },
  {
   "cell_type": "markdown",
   "metadata": {},
   "source": [
    "    Demo sur batch "
   ]
  },
  {
   "cell_type": "code",
   "execution_count": 13,
   "metadata": {},
   "outputs": [],
   "source": [
    "pdf_files = [f for f in os.listdir('data') if f.endswith('.pdf')]\n",
    "#Loop\n",
    "for pdf_file in pdf_files:\n",
    "    try:\n",
    "        pdf_path = os.path.join('data', pdf_file)\n",
    "        csv_name = os.path.splitext(pdf_file)[0]\n",
    "        \n",
    "        # Traiter le PDF\n",
    "        pdf = PDF(path=pdf_path)\n",
    "        pdf.save_csv(\"data/CSV\", csv_name)\n",
    "        \n",
    "    except Exception as e:\n",
    "        print(f\"Erreur avec {pdf_file}: {str(e)}\")\n"
   ]
  }
 ],
 "metadata": {
  "kernelspec": {
   "display_name": "venv",
   "language": "python",
   "name": "python3"
  },
  "language_info": {
   "codemirror_mode": {
    "name": "ipython",
    "version": 3
   },
   "file_extension": ".py",
   "mimetype": "text/x-python",
   "name": "python",
   "nbconvert_exporter": "python",
   "pygments_lexer": "ipython3",
   "version": "3.11.9"
  }
 },
 "nbformat": 4,
 "nbformat_minor": 2
}
